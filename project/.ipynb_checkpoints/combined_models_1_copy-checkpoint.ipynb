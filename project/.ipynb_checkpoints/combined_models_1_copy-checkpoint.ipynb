{
 "cells": [
  {
   "cell_type": "markdown",
   "metadata": {
    "colab_type": "text",
    "id": "QcL9prf_EqPx",
    "slideshow": {
     "slide_type": "slide"
    }
   },
   "source": [
    "\n",
    "<center>\n",
    "<h1> Human  Activity Recognition </h1>\n",
    "\n",
    "<h3> Sense Making And Insight Discovery</h3>\n",
    "\n",
    "<br/>\n",
    "\n",
    "<small>\n",
    "<ul>\n",
    "<li> Anand Rajan     </li>\n",
    "<li> GU JIAHAO GAELAN  </li>\n",
    "<li> Suma Mulpuru      </li>\n",
    "<li> SUNIL PRAKASH\t   </li>\n",
    "</ul>\n",
    "</small>\n",
    "</center>"
   ]
  },
  {
   "cell_type": "markdown",
   "metadata": {
    "colab_type": "text",
    "id": "Rk2oS_khE26I",
    "slideshow": {
     "slide_type": "slide"
    }
   },
   "source": [
    "# Agenda"
   ]
  },
  {
   "cell_type": "markdown",
   "metadata": {
    "colab_type": "text",
    "id": "Z10Ws0JCGYjw",
    "slideshow": {
     "slide_type": "-"
    }
   },
   "source": [
    "\n",
    "\n",
    "1.   Objective\n",
    "2.   Problem Description\n",
    "3.   Data Set\n",
    "4.   Literature Survey\n",
    "5.   Technological Approach\n",
    "6.   Mock Innovation\n",
    "7.   Experimental Results\n",
    "8.   Performance Evaluation\n",
    "\n",
    "\n",
    "\n"
   ]
  },
  {
   "cell_type": "markdown",
   "metadata": {
    "colab_type": "text",
    "id": "9aW8f24zIAi6",
    "slideshow": {
     "slide_type": "slide"
    }
   },
   "source": [
    "# Objective"
   ]
  },
  {
   "cell_type": "markdown",
   "metadata": {
    "colab_type": "text",
    "id": "UgOSPo1GIJJP"
   },
   "source": [
    "\n",
    "\n",
    "\n",
    "*   To make sense of data from modality sensors for robust human action recognition\n",
    "*   To develop an algorithm to classify different human activities into categories using \n",
    "    data from single sensor or from fusion of multiple sensors\n",
    "\n",
    "\n"
   ]
  },
  {
   "cell_type": "markdown",
   "metadata": {
    "colab_type": "text",
    "id": "6Y09mtchIqOX",
    "slideshow": {
     "slide_type": "slide"
    }
   },
   "source": [
    "# Data Exploration"
   ]
  },
  {
   "cell_type": "markdown",
   "metadata": {
    "colab_type": "text",
    "id": "xsabWsBrIzyL",
    "slideshow": {
     "slide_type": "slide"
    }
   },
   "source": [
    "## Problem Description\n"
   ]
  },
  {
   "cell_type": "markdown",
   "metadata": {
    "colab_type": "text",
    "id": "pErZIDASJVES"
   },
   "source": [
    "\n",
    "- Human activity detection has several applications in many fields\n",
    "- There are several different kinds of sensors available to address this task\n",
    "- the use of multi modal sensors for human activity detection has increased these days\n",
    "<img src=\"Images/Image1.jpg\" style=\"float:right;z-index:-99\"/>\n",
    "\n",
    "- The data available is from four different modalities\n",
    "- The human activities are to be classified using either one or all of the sensors data\n",
    "\n",
    "\n",
    "\n"
   ]
  },
  {
   "cell_type": "markdown",
   "metadata": {
    "colab_type": "text",
    "id": "OBeEmwUWJveN",
    "slideshow": {
     "slide_type": "slide"
    }
   },
   "source": [
    "## Dataset Explanation\n",
    "\n",
    "- The available data set has four temporarily synchronized data modalities\n",
    "<img src=\"Images/Image2.jpg\" style=\"height:400px;float:right;z-index:-99\"/>\n",
    "- The modalities include:\n",
    "    - RGB Videos\n",
    "    - Depth Data\n",
    "    - Skeletal Positions\n",
    "    - Inertial Signals\n",
    "- The data set is obtained from wearable sensors and Kinect\n",
    "- Data is a comprehensive set of **27** human actions performed by 8 humans (4 males and  4 females)\n",
    "\n"
   ]
  },
  {
   "cell_type": "markdown",
   "metadata": {
    "colab_type": "text",
    "id": "8HCxpqSyKOvt",
    "slideshow": {
     "slide_type": "slide"
    }
   },
   "source": [
    "# Literature Review"
   ]
  },
  {
   "cell_type": "markdown",
   "metadata": {
    "colab_type": "text",
    "id": "tZP8QbDrJvH2"
   },
   "source": [
    "\n",
    "\n",
    "- Human Activity Recognition is a hot research topic as it has different applications in many fields\n",
    "- Human activity is complex and dynamic and hence the algorithms should model nuances in human activities\n",
    "- Each activity may have in turn several sub activities; eg. The activity of brushing teeth has sub activities of squeezing out the paste, bringing brush close to face etc.\n",
    "- Hands play an important role in carrying out human activities\n",
    "- Motion information is also important in classifying a human’s activities\n",
    "- This task is accomplished by using different sensors like wearable sensors, vision based devices etc\n"
   ]
  },
  {
   "cell_type": "markdown",
   "metadata": {
    "colab_type": "text",
    "id": "EtaI3B4eLNUY",
    "slideshow": {
     "slide_type": "subslide"
    }
   },
   "source": [
    "\n",
    "- Wearable technology is a category of devices (sensors) that can be worn by the consumer and often include tracking information related to health and fitness\n",
    "- They have diagnostic as well as monitoring applications\n",
    "- Wearable inertial tracking is well accepted due to its convenience for free style motion tracking with high accuracy\n",
    "- Wearable inertial tracking allows for unlimited estimation of limb orientations under fast motions which could improve the performance of motion capture evidently \n",
    "- The wearable inertial sensor used here is the low cost wireless inertial sensor\n",
    "- Human soft tissue artifact is a main source of errors no matter the wearable is placed on the clothing or directly on the skin\n"
   ]
  },
  {
   "cell_type": "markdown",
   "metadata": {
    "colab_type": "text",
    "id": "30XR1yASL-1z",
    "slideshow": {
     "slide_type": "subslide"
    }
   },
   "source": [
    "\n",
    "- Kinect is an unobtrusive motion sensor device which is reliable, of competitive cost, powerful, easy to set up, use and accessible\n",
    "<img src=\"Images/Image3.jpg\" style=\"float:right;z-index:-99\"/>\n",
    "\n",
    "- With the use of depth  sensors like Kinect human activity recognition system using depth maps can be developed\n",
    "- Kinect sensors are a good source of information as they are not effected by environmental light variations\n",
    "- This device facilitates extraction of 3D points on human joints\n",
    "- Action recognition has a wide range of application areas such as computer vision, robotics, machine learning, ambient intelligence, medical and many more commercial uses\n"
   ]
  },
  {
   "cell_type": "markdown",
   "metadata": {
    "colab_type": "text",
    "id": "UUSNy9KdMR_p",
    "slideshow": {
     "slide_type": "subslide"
    }
   },
   "source": [
    "\n",
    "- It is used for retrieving 3D information of a scene analyzing the depth map and skeletal joint information of the human body\n",
    "<img src=\"Images/Image4.jpg\" style=\"float:right;z-index:-99\"/>\n",
    "- This helps the Kinect sensor to identify the type of action being performed by the person such as standing, walking, punching, sitting, waving etc.\n",
    "- Using the 3D joint information, the Kinect identifies the gestures and actions being performed by the human body and then the machine responds according to the action input\n",
    "- If the human body is taken as a model set of joints connecting the relevant body parts, then the most significant configurations of its positions are used to define recurrent postures\n",
    "- The activity recognition method should be able to guarantee an acceptable accuracy, real time processing, low power consumption which Kinect provides\n"
   ]
  },
  {
   "cell_type": "markdown",
   "metadata": {
    "colab_type": "text",
    "id": "IebHVIWoMZAw",
    "slideshow": {
     "slide_type": "subslide"
    }
   },
   "source": [
    "\n",
    "- Skeleton streams are the most important features of a Kinect. \n",
    "- Its provide the position and location of the persons whether they tracked or not.\n",
    "- The skeletons which are not tracked are given to zero value returned.\n",
    "- Kinect follows the below steps to perform image acquisition:\n",
    "\n",
    "    - Colour image frames extraction: Out of various resolutions available we have to obtained only 640x480 resolution images\n",
    "    - Depth image frame extraction: It is also obtained at the resolutions of 640x480 images\n",
    "    - Skeleton data used to track and extract the activity of user\n",
    "    - Background subtraction \n"
   ]
  },
  {
   "cell_type": "markdown",
   "metadata": {
    "colab_type": "text",
    "id": "5SeGAFzTVLjM",
    "slideshow": {
     "slide_type": "slide"
    }
   },
   "source": [
    "# Technology Approach and Innovation"
   ]
  },
  {
   "cell_type": "markdown",
   "metadata": {
    "colab_type": "text",
    "id": "faGEKBxpVWgN"
   },
   "source": [
    "\n",
    "**Hidden Markov Model (HMM)**\n",
    "<img src=\"https://upload.wikimedia.org/wikipedia/commons/thumb/8/83/Hmm_temporal_bayesian_net.svg/500px-Hmm_temporal_bayesian_net.svg.png\" style=\"float:right;z-index:-99\"/>\n",
    "\n",
    "\n",
    "- As Sequential data is different from normal snapshot data, composition of all sequences results to a particular action.\n",
    "\n",
    "- Hidden Markov Models provide a more powerful framework as they allow the\n",
    "states to be separated from the input without requiring a direct mapping.\n",
    "- In HMM, the states are hidden and abstract while the inputs are observables\n",
    "\n",
    "- The underlying stochastic process is not directly observable but can be observed\n",
    "only through another set of stochastic processes that produce the sequence of\n",
    "observations\n",
    "\n"
   ]
  },
  {
   "cell_type": "markdown",
   "metadata": {
    "colab_type": "text",
    "id": "prp2etnjNaaw",
    "slideshow": {
     "slide_type": "slide"
    }
   },
   "source": [
    "# Classification - Individual Sensors"
   ]
  },
  {
   "cell_type": "markdown",
   "metadata": {
    "colab_type": "text",
    "id": "uesbLn0FNmpN",
    "slideshow": {
     "slide_type": "slide"
    }
   },
   "source": [
    "## Skeleton Sensor"
   ]
  },
  {
   "cell_type": "markdown",
   "metadata": {
    "colab_type": "text",
    "id": "nAXY8FHZQ5BN"
   },
   "source": [
    "\n",
    "- 20 joints positions in the world coordinate (i.e., x, y, and z) were recorded and the screen coordinates were mapped to the depth images \n",
    "\n",
    "<img src=\"https://raw.githubusercontent.com/sunilp/ca-open-resources/master/images/a1_skeleton.gif\" style=\"width:250px;height:350px;float:right\"/>\n",
    "\n",
    "\n",
    "\n",
    "#### Activities Trained\n",
    "\n",
    "1. *a1* - right arm swipe to the left,\n",
    "2. *a2* - right arm swipe to the right,\n",
    "3. *a3* - right hand wave\n",
    "\n",
    "\n"
   ]
  },
  {
   "cell_type": "code",
   "execution_count": 1,
   "metadata": {
    "colab": {
     "autoexec": {
      "startup": false,
      "wait_interval": 0
     },
     "base_uri": "https://localhost:8080/",
     "height": 202,
     "output_extras": [
      {
       "item_id": 1
      }
     ]
    },
    "colab_type": "code",
    "collapsed": true,
    "executionInfo": {
     "elapsed": 703,
     "status": "error",
     "timestamp": 1509876519625,
     "user": {
      "displayName": "Sunil Prakash",
      "photoUrl": "//lh6.googleusercontent.com/-NCCjmb_FW_4/AAAAAAAAAAI/AAAAAAAAFdA/kDJQZbDwYXI/s50-c-k-no/photo.jpg",
      "userId": "102916193033040622145"
     },
     "user_tz": -480
    },
    "id": "5-z8RpYvEqPz",
    "outputId": "f48273c3-c76c-44ae-af59-0d7082f00aaf",
    "slideshow": {
     "slide_type": "skip"
    }
   },
   "outputs": [],
   "source": [
    "import numpy as np\n",
    "from SensorHMM import SensorHMM\n",
    "%matplotlib inline"
   ]
  },
  {
   "cell_type": "code",
   "execution_count": 0,
   "metadata": {
    "colab": {
     "autoexec": {
      "startup": false,
      "wait_interval": 0
     }
    },
    "colab_type": "code",
    "collapsed": true,
    "id": "RuXunxFAEqP6",
    "slideshow": {
     "slide_type": "skip"
    }
   },
   "outputs": [],
   "source": [
    "skeleton_model = SensorHMM(\"skeleton\",data_directory=\"Skeleton\", data_key=\"d_skel\",\n",
    "                           no_features=20,n_components=4 )"
   ]
  },
  {
   "cell_type": "code",
   "execution_count": 0,
   "metadata": {
    "colab": {
     "autoexec": {
      "startup": false,
      "wait_interval": 0
     },
     "output_extras": [
      {}
     ]
    },
    "colab_type": "code",
    "id": "TO4Zcty8EqP8",
    "outputId": "0df57fbb-706b-4618-b689-dd54df05d3f2",
    "slideshow": {
     "slide_type": "subslide"
    }
   },
   "outputs": [
    {
     "name": "stdout",
     "output_type": "stream",
     "text": [
      "Data loaded  861\n"
     ]
    }
   ],
   "source": [
    "all_data_skeleton = skeleton_model.load_data()"
   ]
  },
  {
   "cell_type": "code",
   "execution_count": 0,
   "metadata": {
    "colab": {
     "autoexec": {
      "startup": false,
      "wait_interval": 0
     },
     "output_extras": [
      {}
     ]
    },
    "colab_type": "code",
    "id": "lR8b14raEqQA",
    "outputId": "f4318210-998d-4a74-af0d-0442f499e00c"
   },
   "outputs": [
    {
     "name": "stdout",
     "output_type": "stream",
     "text": [
      "Done splitting 702 159\n"
     ]
    }
   ],
   "source": [
    "training_data, testing_data = skeleton_model.split_data(all_data_skeleton)"
   ]
  },
  {
   "cell_type": "code",
   "execution_count": 0,
   "metadata": {
    "colab": {
     "autoexec": {
      "startup": false,
      "wait_interval": 0
     },
     "output_extras": [
      {}
     ]
    },
    "colab_type": "code",
    "id": "FVTv4vrLEqQD",
    "outputId": "26798e56-439c-4205-af9f-b7ed255ace26"
   },
   "outputs": [
    {
     "name": "stdout",
     "output_type": "stream",
     "text": [
      "training for  a1\n",
      "(1560, 20)\n",
      "ll 119659.163718\n",
      "training for  a2\n",
      "(1548, 20)\n",
      "ll 120747.515238\n",
      "training for  a3\n",
      "(1679, 20)\n",
      "ll 126619.041295\n",
      "** training complete **\n"
     ]
    }
   ],
   "source": [
    "skeleton_model.fit(training_data,actions=actions)"
   ]
  },
  {
   "cell_type": "code",
   "execution_count": 0,
   "metadata": {
    "colab": {
     "autoexec": {
      "startup": false,
      "wait_interval": 0
     }
    },
    "colab_type": "code",
    "collapsed": true,
    "id": "OXlPoVlZEqQG",
    "slideshow": {
     "slide_type": "skip"
    }
   },
   "outputs": [],
   "source": [
    "predictedY,predictedP = skeleton_model.predict(testing_data)\n",
    "_,testY = zip(*[(testx,testy) for testx,testy in testing_data if testy in actions])"
   ]
  },
  {
   "cell_type": "code",
   "execution_count": 0,
   "metadata": {
    "colab": {
     "autoexec": {
      "startup": false,
      "wait_interval": 0
     },
     "output_extras": [
      {},
      {}
     ]
    },
    "colab_type": "code",
    "id": "NEvy6lwJEqQI",
    "outputId": "f20fb976-0e12-438e-a8c4-5a973c3f4b84",
    "slideshow": {
     "slide_type": "subslide"
    }
   },
   "outputs": [
    {
     "name": "stdout",
     "output_type": "stream",
     "text": [
      "0.666666666667\n",
      "             precision    recall  f1-score   support\n",
      "\n",
      "         a1       1.00      0.67      0.80         6\n",
      "         a2       0.50      0.83      0.62         6\n",
      "         a3       0.75      0.50      0.60         6\n",
      "\n",
      "avg / total       0.75      0.67      0.68        18\n",
      "\n",
      "Confusion matrix, without normalization\n",
      "[[4 2 0]\n",
      " [0 5 1]\n",
      " [0 3 3]]\n"
     ]
    },
    {
     "data": {
      "image/png": "[encoded data removed]",
      "text/plain": [
       "<matplotlib.figure.Figure at 0x110b27f98>"
      ]
     },
     "metadata": {
      "tags": []
     },
     "output_type": "display_data"
    }
   ],
   "source": [
    "skeleton_model.print_classification_report(testY,predictedY)"
   ]
  },
  {
   "cell_type": "markdown",
   "metadata": {
    "colab_type": "text",
    "id": "k4LnrQ6NPhzD",
    "slideshow": {
     "slide_type": "slide"
    }
   },
   "source": [
    "## Inertial Sensor\n",
    "\n",
    "* Inertial sensors usually provide information about **acceleration** and **rotation** in a 3D space\n",
    "\n",
    "* In this case, the sensor was worn on either the right wrist or right thigh, and 3-axis acceleration and rotation signal data was collected in one channel\n",
    "<img src=\"http://www.utdallas.edu/~cxc123730/UTD-MAD/sensor_placement.png\" style=\"float:right;height:260px\"/>\n",
    "* It is worthwhile to note that since this is a low-cost 9-axis MEMS sensor, the data may not be highly accurate\n",
    "\n",
    "\n",
    "\n"
   ]
  },
  {
   "cell_type": "markdown",
   "metadata": {
    "colab_type": "text",
    "id": "jEKQ23fZihXs",
    "slideshow": {
     "slide_type": "subslide"
    }
   },
   "source": [
    "### Data Preparation"
   ]
  },
  {
   "cell_type": "code",
   "execution_count": 13,
   "metadata": {
    "collapsed": true,
    "slideshow": {
     "slide_type": "skip"
    }
   },
   "outputs": [],
   "source": [
    "cols = [0, 1, 2, 3, 4, 5, 'cat']\n",
    "import pandas as pd\n",
    "import matplotlib.pyplot as plt\n",
    "import os\n",
    "from scipy.io import loadmat\n",
    "df_plot = pd.DataFrame(columns=cols)\n",
    "filedir = './Inertial/'\n",
    "\n",
    "for file in os.listdir(filedir):\n",
    "    \n",
    "    if file.endswith(\".mat\"):\n",
    "        # import matlab file into df with label\n",
    "        data = loadmat(filedir + file)\n",
    "        df_plot1 = pd.DataFrame(data['d_iner'])\n",
    "\n",
    "        subcat = str(file.split('_')[0] + '_' + file.split('_')[1] + '_' + file.split('_')[2])\n",
    "        df_plot1['cat'] = subcat\n",
    "\n",
    "        # append to original df\n",
    "        df_plot = df_plot.append(df_plot1)"
   ]
  },
  {
   "cell_type": "code",
   "execution_count": 29,
   "metadata": {
    "slideshow": {
     "slide_type": "skip"
    }
   },
   "outputs": [
    {
     "name": "stderr",
     "output_type": "stream",
     "text": [
      "/usr/local/anaconda3/envs/nus/lib/python3.6/site-packages/pandas/core/frame.py:2844: SettingWithCopyWarning: \n",
      "A value is trying to be set on a copy of a slice from a DataFrame\n",
      "\n",
      "See the caveats in the documentation: http://pandas.pydata.org/pandas-docs/stable/indexing.html#indexing-view-versus-copy\n",
      "  **kwargs)\n"
     ]
    }
   ],
   "source": [
    "df_plot_a1 = df_plot[df_plot.cat == 'a1_s1_t1']\n",
    "df_plot_a1.rename(columns={0: 'acc_X',\n",
    "                           1: 'acc_Y', \n",
    "                           2: 'acc_Z',\n",
    "                           3: 'gyro_X', \n",
    "                           4: 'gyro_Y', \n",
    "                           5: 'gyro_Z'}, inplace=True)\n",
    "\n",
    "None\n",
    "\n"
   ]
  },
  {
   "cell_type": "code",
   "execution_count": 28,
   "metadata": {},
   "outputs": [
    {
     "data": {
      "image/png": "[encoded data removed]",
      "text/plain": [
       "<matplotlib.figure.Figure at 0x125de1588>"
      ]
     },
     "metadata": {},
     "output_type": "display_data"
    },
    {
     "data": {
      "image/png": "[encoded data removed]",
      "text/plain": [
       "<matplotlib.figure.Figure at 0x125de1d30>"
      ]
     },
     "metadata": {},
     "output_type": "display_data"
    }
   ],
   "source": [
    "df_plot_a1.loc[:, 'acc_X':'acc_Z'].plot(title='Swipe Left Action - Acceleration')\n",
    "df_plot_a1.loc[:, 'gyro_X':'gyro_Z'].plot(title='Swipe Left Action - Gyroscope')\n",
    "plt.show()"
   ]
  },
  {
   "cell_type": "code",
   "execution_count": 2,
   "metadata": {
    "colab": {
     "autoexec": {
      "startup": false,
      "wait_interval": 0
     },
     "base_uri": "https://localhost:8080/",
     "height": 185,
     "output_extras": [
      {
       "item_id": 1
      }
     ]
    },
    "colab_type": "code",
    "collapsed": true,
    "executionInfo": {
     "elapsed": 760,
     "status": "error",
     "timestamp": 1509875814829,
     "user": {
      "displayName": "Gaelan Gu",
      "photoUrl": "//lh4.googleusercontent.com/-Ih4vOElpsOo/AAAAAAAAAAI/AAAAAAAAHqk/kyvBZG5n4ng/s50-c-k-no/photo.jpg",
      "userId": "104129723920476939943"
     },
     "user_tz": -480
    },
    "id": "FvNzmlt2EqQM",
    "outputId": "1afda228-1650-46d3-d16c-5fbd0fa1cf30",
    "slideshow": {
     "slide_type": "skip"
    }
   },
   "outputs": [],
   "source": [
    "inertial_model = SensorHMM(\"inertial\",data_directory=\"Inertial\", data_key=\"d_iner\",\n",
    "                           no_features=6,n_components=20 )"
   ]
  },
  {
   "cell_type": "code",
   "execution_count": 3,
   "metadata": {
    "colab": {
     "autoexec": {
      "startup": false,
      "wait_interval": 0
     },
     "base_uri": "https://localhost:8080/",
     "height": 168,
     "output_extras": [
      {
       "item_id": 1
      }
     ]
    },
    "colab_type": "code",
    "executionInfo": {
     "elapsed": 8000,
     "status": "error",
     "timestamp": 1509875797381,
     "user": {
      "displayName": "Gaelan Gu",
      "photoUrl": "//lh4.googleusercontent.com/-Ih4vOElpsOo/AAAAAAAAAAI/AAAAAAAAHqk/kyvBZG5n4ng/s50-c-k-no/photo.jpg",
      "userId": "104129723920476939943"
     },
     "user_tz": -480
    },
    "id": "x_Q-gzEPEqQP",
    "outputId": "1f1aa6f0-8655-4785-a29c-0e92c3566f80",
    "slideshow": {
     "slide_type": "subslide"
    }
   },
   "outputs": [
    {
     "name": "stdout",
     "output_type": "stream",
     "text": [
      "Data loaded  861\n"
     ]
    }
   ],
   "source": [
    "# data import\n",
    "all_data_inertial = inertial_model.load_data()"
   ]
  },
  {
   "cell_type": "code",
   "execution_count": 4,
   "metadata": {
    "colab": {
     "autoexec": {
      "startup": false,
      "wait_interval": 0
     },
     "output_extras": [
      {}
     ]
    },
    "colab_type": "code",
    "id": "hKJ_2Vp6EqQT",
    "outputId": "603952d0-0730-427a-bbc1-e2edd04a75bb"
   },
   "outputs": [
    {
     "name": "stdout",
     "output_type": "stream",
     "text": [
      "Done splitting 702 159\n"
     ]
    }
   ],
   "source": [
    "# train-test split\n",
    "training_data_inertial, testing_data_inertial = inertial_model.split_data(all_data_inertial)"
   ]
  },
  {
   "cell_type": "markdown",
   "metadata": {
    "colab_type": "text",
    "id": "4vrxaUVoZzub",
    "slideshow": {
     "slide_type": "skip"
    }
   },
   "source": [
    "### Training the Model\n",
    "\n",
    "We train the Hidden Markov Model on the inertial data for the first 3 actions."
   ]
  },
  {
   "cell_type": "code",
   "execution_count": 0,
   "metadata": {
    "colab": {
     "autoexec": {
      "startup": false,
      "wait_interval": 0
     },
     "output_extras": [
      {},
      {},
      {},
      {},
      {},
      {},
      {}
     ]
    },
    "colab_type": "code",
    "id": "qr_NqByYEqQX",
    "outputId": "11021d83-1d4a-46ad-8cd5-8df78908492d",
    "slideshow": {
     "slide_type": "skip"
    }
   },
   "outputs": [
    {
     "name": "stdout",
     "output_type": "stream",
     "text": [
      "training for  a1\n",
      "(4140, 6)\n"
     ]
    },
    {
     "name": "stderr",
     "output_type": "stream",
     "text": [
      "/usr/local/anaconda3/envs/nus/lib/python3.6/site-packages/hmmlearn/base.py:460: RuntimeWarning: divide by zero encountered in log\n",
      "  np.log(self.transmat_),\n",
      "/usr/local/anaconda3/envs/nus/lib/python3.6/site-packages/hmmlearn/base.py:469: RuntimeWarning: divide by zero encountered in log\n",
      "  np.log(self.transmat_),\n",
      "/usr/local/anaconda3/envs/nus/lib/python3.6/site-packages/hmmlearn/base.py:624: RuntimeWarning: divide by zero encountered in log\n",
      "  np.log(self.transmat_),\n"
     ]
    },
    {
     "name": "stdout",
     "output_type": "stream",
     "text": [
      "ll -61110.4704711\n",
      "training for  a2\n",
      "(4125, 6)\n"
     ]
    },
    {
     "name": "stderr",
     "output_type": "stream",
     "text": [
      "/usr/local/anaconda3/envs/nus/lib/python3.6/site-packages/hmmlearn/base.py:460: RuntimeWarning: divide by zero encountered in log\n",
      "  np.log(self.transmat_),\n",
      "/usr/local/anaconda3/envs/nus/lib/python3.6/site-packages/hmmlearn/base.py:469: RuntimeWarning: divide by zero encountered in log\n",
      "  np.log(self.transmat_),\n",
      "/usr/local/anaconda3/envs/nus/lib/python3.6/site-packages/hmmlearn/base.py:624: RuntimeWarning: divide by zero encountered in log\n",
      "  np.log(self.transmat_),\n"
     ]
    },
    {
     "name": "stdout",
     "output_type": "stream",
     "text": [
      "ll -61490.6449485\n",
      "training for  a3\n",
      "(4521, 6)\n"
     ]
    },
    {
     "name": "stderr",
     "output_type": "stream",
     "text": [
      "/usr/local/anaconda3/envs/nus/lib/python3.6/site-packages/hmmlearn/base.py:460: RuntimeWarning: divide by zero encountered in log\n",
      "  np.log(self.transmat_),\n",
      "/usr/local/anaconda3/envs/nus/lib/python3.6/site-packages/hmmlearn/base.py:469: RuntimeWarning: divide by zero encountered in log\n",
      "  np.log(self.transmat_),\n",
      "/usr/local/anaconda3/envs/nus/lib/python3.6/site-packages/hmmlearn/base.py:624: RuntimeWarning: divide by zero encountered in log\n",
      "  np.log(self.transmat_),\n"
     ]
    },
    {
     "name": "stdout",
     "output_type": "stream",
     "text": [
      "ll -78711.9381161\n",
      "** training complete **\n"
     ]
    }
   ],
   "source": [
    "inertial_model.fit(training_data_inertial,actions=actions)"
   ]
  },
  {
   "cell_type": "markdown",
   "metadata": {
    "colab_type": "text",
    "id": "wTJOhCylbQZz",
    "slideshow": {
     "slide_type": "skip"
    }
   },
   "source": [
    "### Classifying the Actions\n",
    "<small>\n",
    "Now we classify the actions using the trained inertial model on the test data of the 3 actions.\n",
    "</small>"
   ]
  },
  {
   "cell_type": "code",
   "execution_count": 0,
   "metadata": {
    "colab": {
     "autoexec": {
      "startup": false,
      "wait_interval": 0
     }
    },
    "colab_type": "code",
    "collapsed": true,
    "id": "2y_O6fPlEqQZ",
    "slideshow": {
     "slide_type": "skip"
    }
   },
   "outputs": [],
   "source": [
    "predictedY_inertial,predictedP_inertial = inertial_model.predict(testing_data_inertial)\n",
    "_,testY_inertial = zip(*[(testx,testy) for testx,testy in testing_data_inertial if testy in actions])"
   ]
  },
  {
   "cell_type": "code",
   "execution_count": 0,
   "metadata": {
    "colab": {
     "autoexec": {
      "startup": false,
      "wait_interval": 0
     },
     "output_extras": [
      {},
      {}
     ]
    },
    "colab_type": "code",
    "id": "8FwtTHmWEqQc",
    "outputId": "fc37dabc-5413-4ffa-d3d6-556b04b05ac9",
    "slideshow": {
     "slide_type": "subslide"
    }
   },
   "outputs": [
    {
     "name": "stdout",
     "output_type": "stream",
     "text": [
      "0.944444444444\n",
      "             precision    recall  f1-score   support\n",
      "\n",
      "         a1       1.00      1.00      1.00         6\n",
      "         a2       1.00      0.83      0.91         6\n",
      "         a3       0.86      1.00      0.92         6\n",
      "\n",
      "avg / total       0.95      0.94      0.94        18\n",
      "\n",
      "Confusion matrix, without normalization\n",
      "[[6 0 0]\n",
      " [0 5 1]\n",
      " [0 0 6]]\n"
     ]
    },
    {
     "data": {
      "image/png": "[encoded data removed]",
      "text/plain": [
       "<matplotlib.figure.Figure at 0x11c933ef0>"
      ]
     },
     "metadata": {
      "tags": []
     },
     "output_type": "display_data"
    }
   ],
   "source": [
    "inertial_model.print_classification_report(testY_inertial,predictedY_inertial)"
   ]
  },
  {
   "cell_type": "markdown",
   "metadata": {
    "colab_type": "text",
    "id": "sCPgyIzhgw4_",
    "slideshow": {
     "slide_type": "subslide"
    }
   },
   "source": [
    "* A very favourable accuracy of 94% was achieved on the test data\n",
    "* Only one misclassification when the *swipe right* (`a2`) action was mistaken for a *wave* (`a3`)\n",
    "* This might be due to lesser data loss from the inertial sensor (as compared to the depth sensor) so the model is able to easily recognize and differentiate the actions"
   ]
  },
  {
   "cell_type": "markdown",
   "metadata": {
    "colab_type": "text",
    "id": "DDkFg9zOWY_V",
    "slideshow": {
     "slide_type": "slide"
    }
   },
   "source": [
    "## Depth Sensor"
   ]
  },
  {
   "cell_type": "markdown",
   "metadata": {
    "colab_type": "text",
    "id": "B8pOjaZbRQDQ"
   },
   "source": [
    "<img src=\"Images/Image5.jpg\" style=\"float:right;height:260px\"/>\n",
    "\n",
    "\n",
    "\n",
    "*  In the recent years, depth information is a particularly useful cue in human machine interface (HMI) applications.\n",
    "*   The depth map-based methods rely mainly on features, either local or global, extracted from the feature space.\n",
    "*   Compared to visual data, depth maps provide metric i.e measurements of the geometry that are invariant to lighting.\n",
    "-   On the other hand, the main disadvantage of this technique is that depth sequences may be sensitive to occlusions \n",
    "    and the textures of the images are not as good as that of colour images.\n",
    "-   At present, Gesture Recognition through visual and depth information is one of the main active research topics in the \n",
    "    computer vision community.  \n",
    "-  In this approach we used three techniques such as\n",
    "   *   Edge Detection using Sobel Feldman Algorithm\n",
    "   *   Convolution using CNN\n",
    "   *   Feature extraction\n",
    "   *   Classifcation using Hidden Markov Model\n",
    "\n",
    "\n",
    "\n",
    "\n",
    "\n",
    "\n",
    "\n",
    "\n",
    "\n",
    "\n",
    "\n",
    "\n"
   ]
  },
  {
   "cell_type": "markdown",
   "metadata": {
    "colab_type": "text",
    "id": "KPMHQp7hEqQf",
    "slideshow": {
     "slide_type": "skip"
    }
   },
   "source": [
    "### Data Preparation"
   ]
  },
  {
   "cell_type": "code",
   "execution_count": 0,
   "metadata": {
    "colab": {
     "autoexec": {
      "startup": false,
      "wait_interval": 0
     }
    },
    "colab_type": "code",
    "collapsed": true,
    "id": "DZDE0E4fEqQg",
    "slideshow": {
     "slide_type": "subslide"
    }
   },
   "outputs": [],
   "source": [
    "depth_model = SensorHMM(\"depth\",data_directory=\"Depth\", data_key=\"d_depth\",\n",
    "                           no_features=19,n_components=4,params=\"f\" )"
   ]
  },
  {
   "cell_type": "code",
   "execution_count": 0,
   "metadata": {
    "colab": {
     "autoexec": {
      "startup": false,
      "wait_interval": 0
     },
     "output_extras": [
      {}
     ]
    },
    "colab_type": "code",
    "id": "5RL3qyy1EqQj",
    "outputId": "448bde04-c6d5-4dbc-ac90-9e0be953aac0"
   },
   "outputs": [
    {
     "name": "stdout",
     "output_type": "stream",
     "text": [
      "Data loaded  861\n"
     ]
    }
   ],
   "source": [
    "all_data_depth = depth_model.load_data()\n",
    "#depth_model.all_data=all_data_depth"
   ]
  },
  {
   "cell_type": "code",
   "execution_count": 0,
   "metadata": {
    "colab": {
     "autoexec": {
      "startup": false,
      "wait_interval": 0
     },
     "output_extras": [
      {}
     ]
    },
    "colab_type": "code",
    "id": "f_mLoLpDEqQn",
    "outputId": "d79f198b-5adf-4402-de5d-755a4f6bc525"
   },
   "outputs": [
    {
     "name": "stdout",
     "output_type": "stream",
     "text": [
      "Done splitting 702 159\n"
     ]
    }
   ],
   "source": [
    "training_data_depth, testing_data_depth = depth_model.split_data(all_data_depth)"
   ]
  },
  {
   "cell_type": "markdown",
   "metadata": {
    "colab_type": "text",
    "id": "KTibLNuLiyGb",
    "slideshow": {
     "slide_type": "skip"
    }
   },
   "source": [
    "### Training the Model"
   ]
  },
  {
   "cell_type": "code",
   "execution_count": 0,
   "metadata": {
    "colab": {
     "autoexec": {
      "startup": false,
      "wait_interval": 0
     },
     "output_extras": [
      {},
      {}
     ]
    },
    "colab_type": "code",
    "id": "k6qRpPWQEqQq",
    "outputId": "255693b6-1dca-4b94-de77-bd2e3df1b0b8",
    "slideshow": {
     "slide_type": "subslide"
    }
   },
   "outputs": [
    {
     "name": "stdout",
     "output_type": "stream",
     "text": [
      "training for  a1\n",
      "(22246, 19)\n",
      "ll -3829983.50012\n",
      "training for  a2\n",
      "(21546, 19)\n",
      "ll -4513741.30962\n",
      "training for  a3\n",
      "(23604, 19)\n",
      "ll -2791556.52088\n",
      "** training complete **\n"
     ]
    },
    {
     "data": {
      "image/png": "[encoded data removed]",
      "text/plain": [
       "<matplotlib.figure.Figure at 0x10f11dd68>"
      ]
     },
     "metadata": {
      "tags": []
     },
     "output_type": "display_data"
    }
   ],
   "source": [
    "depth_model.fit(training_data_depth,actions=actions)"
   ]
  },
  {
   "cell_type": "markdown",
   "metadata": {
    "colab_type": "text",
    "id": "vcM8HDE3i_0B",
    "slideshow": {
     "slide_type": "skip"
    }
   },
   "source": [
    "### Classifying the Actions"
   ]
  },
  {
   "cell_type": "code",
   "execution_count": 0,
   "metadata": {
    "colab": {
     "autoexec": {
      "startup": false,
      "wait_interval": 0
     },
     "output_extras": [
      {}
     ]
    },
    "colab_type": "code",
    "id": "fK5IirxHEqQs",
    "outputId": "4ebf6e58-2dc1-456e-cb00-f84964a949f7",
    "slideshow": {
     "slide_type": "skip"
    }
   },
   "outputs": [
    {
     "data": {
      "image/png": "[encoded data removed]",
      "text/plain": [
       "<matplotlib.figure.Figure at 0x1495826d8>"
      ]
     },
     "metadata": {
      "tags": []
     },
     "output_type": "display_data"
    }
   ],
   "source": [
    "predictedY_depth,predictedP_depth = depth_model.predict(testing_data_depth)\n",
    "_,testY_depth = zip(*[(testx,testy) for testx,testy in testing_data_depth if testy in actions])"
   ]
  },
  {
   "cell_type": "markdown",
   "metadata": {
    "colab_type": "text",
    "id": "rpxmUXwDjLd7",
    "slideshow": {
     "slide_type": "skip"
    }
   },
   "source": [
    "### Model Metrics"
   ]
  },
  {
   "cell_type": "code",
   "execution_count": 0,
   "metadata": {
    "colab": {
     "autoexec": {
      "startup": false,
      "wait_interval": 0
     },
     "output_extras": [
      {},
      {}
     ]
    },
    "colab_type": "code",
    "id": "TZvflSLsEqQw",
    "outputId": "4a8e0052-edb9-4bad-cc52-aab6af620a86",
    "slideshow": {
     "slide_type": "subslide"
    }
   },
   "outputs": [
    {
     "name": "stdout",
     "output_type": "stream",
     "text": [
      "0.666666666667\n",
      "             precision    recall  f1-score   support\n",
      "\n",
      "         a1       0.60      0.50      0.55         6\n",
      "         a2       0.75      0.50      0.60         6\n",
      "         a3       0.67      1.00      0.80         6\n",
      "\n",
      "avg / total       0.67      0.67      0.65        18\n",
      "\n",
      "Confusion matrix, without normalization\n",
      "[[3 1 2]\n",
      " [2 3 1]\n",
      " [0 0 6]]\n"
     ]
    },
    {
     "data": {
      "image/png": "[encoded data removed]",
      "text/plain": [
       "<matplotlib.figure.Figure at 0x11c934c18>"
      ]
     },
     "metadata": {
      "tags": []
     },
     "output_type": "display_data"
    }
   ],
   "source": [
    "depth_model.print_classification_report(testY_depth,predictedY_depth)"
   ]
  },
  {
   "cell_type": "markdown",
   "metadata": {
    "colab_type": "text",
    "id": "xeni88D0Pxjv",
    "slideshow": {
     "slide_type": "slide"
    }
   },
   "source": [
    "# Fusion"
   ]
  },
  {
   "cell_type": "markdown",
   "metadata": {
    "colab_type": "text",
    "id": "iXHPzC34Q8gU"
   },
   "source": []
  },
  {
   "cell_type": "markdown",
   "metadata": {
    "colab_type": "text",
    "id": "0u1mnks9Mne1",
    "slideshow": {
     "slide_type": "slide"
    }
   },
   "source": [
    "# Future Research Considerations\t\n",
    "\n",
    "In order to realize the full potential of HAR (Human Activity Recognition) systems, certain topics like the one’s mentioned below need further investigation.\n",
    "\n",
    "**Activity Recognition Data Set**: The quantitative comparison of HAR approaches has been hindered by the fact that each system works with a different dataset. In that direction, various datasets publicly open to the research community can be included which can be used as benchmarks to evaluate new approaches. \n",
    " \n",
    "**Concurrent and overlapping activities**: The assumption that an individual only performs one activity at a time is true for basic ambulation activities. In general, human activities are rather overlapping and concurrent. Since only few works have been reported in this area, we foresee great research opportunities in this field. \n",
    " \n",
    "**Crowd HAR**: The recognition of human activities has been somehow individualized, i.e., the majority of the systems predict activities in a single user. If we could gather activity patterns from a significant sample of people in certain area (e.g., a city, a state, or a country), that information could be used to estimate levels of sedentarism , exercise habits, and even health conditions in a target population. \n"
   ]
  },
  {
   "cell_type": "code",
   "execution_count": 0,
   "metadata": {
    "colab": {
     "autoexec": {
      "startup": false,
      "wait_interval": 0
     }
    },
    "colab_type": "code",
    "collapsed": true,
    "id": "tAZiQQsUEqQ-",
    "slideshow": {
     "slide_type": "skip"
    }
   },
   "outputs": [],
   "source": []
  }
 ],
 "metadata": {
  "celltoolbar": "Slideshow",
  "colab": {
   "collapsed_sections": [],
   "default_view": {},
   "name": "combined_models.ipynb",
   "provenance": [],
   "toc_visible": true,
   "version": "0.3.2",
   "views": {}
  },
  "kernelspec": {
   "display_name": "Python 3",
   "language": "python",
   "name": "python3"
  },
  "language_info": {
   "codemirror_mode": {
    "name": "ipython",
    "version": 3
   },
   "file_extension": ".py",
   "mimetype": "text/x-python",
   "name": "python",
   "nbconvert_exporter": "python",
   "pygments_lexer": "ipython3",
   "version": "3.6.1"
  },
  "livereveal": {
   "start_slideshow_at": "selected",
   "theme": "sky",
   "transition": "zoom"
  }
 },
 "nbformat": 4,
 "nbformat_minor": 1
}
