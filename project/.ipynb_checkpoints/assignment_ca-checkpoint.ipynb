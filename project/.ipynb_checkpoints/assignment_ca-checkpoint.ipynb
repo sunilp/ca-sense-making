{
 "cells": [
  {
   "cell_type": "code",
   "execution_count": 26,
   "metadata": {
    "collapsed": true
   },
   "outputs": [],
   "source": [
    "import numpy as np\n",
    "import cv2\n",
    "import matplotlib.pyplot as plt\n",
    "import os\n",
    "import scipy.io as sio\n",
    "%matplotlib inline"
   ]
  },
  {
   "cell_type": "code",
   "execution_count": 23,
   "metadata": {
    "collapsed": true
   },
   "outputs": [],
   "source": [
    "def video_frame_generator(filename):\n",
    "\n",
    "    # Todo: Open file with VideoCapture and set result to 'video'. Replace None\n",
    "    video = cv2.VideoCapture(filename)\n",
    "\n",
    "    # Do not edit this while loop\n",
    "    while video.isOpened():\n",
    "        ret, frame = video.read()\n",
    "        if ret:\n",
    "            yield frame\n",
    "        else:\n",
    "            break\n",
    "\n",
    "    # Todo: Close video (release) and yield a 'None' value. (add 2 lines)\n",
    "    #raise NotImplementedError\n",
    "    video.release()\n",
    "    yield None"
   ]
  },
  {
   "cell_type": "code",
   "execution_count": 24,
   "metadata": {},
   "outputs": [],
   "source": [
    "VID_DIR='./RGB'\n",
    "def reading_video(video_name, fps, frame_ids, output_prefix,\n",
    "                            counter_init):\n",
    "\n",
    "    video = os.path.join(VID_DIR, video_name)\n",
    "    image_gen = video_frame_generator(video)\n",
    "\n",
    "    image = image_gen.next()\n",
    "    h, w, d = image.shape\n",
    "\n",
    "    out_path = \"output/ar_{}-{}\".format(output_prefix[4:], video_name)\n",
    "    video_out = mp4_video_writer(out_path, (w, h), fps)\n",
    "\n",
    "    output_counter = counter_init\n",
    "\n",
    "    frame_num = 1\n",
    "\n",
    "    while image is not None:\n",
    "\n",
    "        print(\"Processing fame {}\".format(frame_num))\n",
    "        plt.imshow(image)\n",
    "        \n",
    "\n",
    "        video_out.write(image)\n",
    "\n",
    "        image = image_gen.next()\n",
    "\n",
    "        frame_num += 1\n",
    "\n",
    "    #video_out.release()\n",
    "\n"
   ]
  },
  {
   "cell_type": "code",
   "execution_count": 27,
   "metadata": {},
   "outputs": [],
   "source": [
    "#reading_video('a1_s1_t1_color.avi',15,1,'',1)"
   ]
  },
  {
   "cell_type": "code",
   "execution_count": 29,
   "metadata": {
    "collapsed": true
   },
   "outputs": [],
   "source": [
    "mat_contents = sio.loadmat('Skeleton/a1_s1_t1_skeleton.mat')"
   ]
  },
  {
   "cell_type": "code",
   "execution_count": 32,
   "metadata": {},
   "outputs": [
    {
     "data": {
      "text/plain": [
       "array([[[-0.04576265, -0.04531411, -0.04479147, ..., -0.05307755,\n",
       "         -0.05275621, -0.05243191],\n",
       "        [ 0.48398542,  0.48398706,  0.48399851, ...,  0.47758362,\n",
       "          0.47747591,  0.47744119],\n",
       "        [ 2.83018947,  2.83030653,  2.8303957 , ...,  2.82786536,\n",
       "          2.82729793,  2.82693005]],\n",
       "\n",
       "       [[-0.03456692, -0.03442907, -0.03437172, ..., -0.04114122,\n",
       "         -0.04117078, -0.04118307],\n",
       "        [ 0.299454  ,  0.2993769 ,  0.29928702, ...,  0.2950291 ,\n",
       "          0.29476514,  0.29458854],\n",
       "        [ 2.87704015,  2.8770287 ,  2.87694836, ...,  2.8784616 ,\n",
       "          2.87827277,  2.87808895]],\n",
       "\n",
       "       [[-0.03057881, -0.03043511, -0.03032333, ..., -0.03292315,\n",
       "         -0.03297334, -0.03301707],\n",
       "        [-0.04934456, -0.04936093, -0.04936947, ..., -0.04953799,\n",
       "         -0.04970564, -0.04985079],\n",
       "        [ 2.89044809,  2.89059424,  2.89070034, ...,  2.89039779,\n",
       "          2.890481  ,  2.89054322]],\n",
       "\n",
       "       ..., \n",
       "       [[ 0.07187957,  0.07197246,  0.07204827, ...,  0.07119681,\n",
       "          0.07135316,  0.0715322 ],\n",
       "        [-0.65692061, -0.65670973, -0.65659136, ..., -0.65642893,\n",
       "         -0.65685904, -0.65734017],\n",
       "        [ 2.91031551,  2.91023374,  2.91017795, ...,  2.90942335,\n",
       "          2.90948343,  2.90952253]],\n",
       "\n",
       "       [[ 0.0516578 ,  0.05171471,  0.05175073, ...,  0.05064945,\n",
       "          0.05072324,  0.05086763],\n",
       "        [-1.01543105, -1.01533151, -1.01523745, ..., -1.01529121,\n",
       "         -1.01532197, -1.01539791],\n",
       "        [ 2.94154429,  2.94158554,  2.9415946 , ...,  2.94163489,\n",
       "          2.94165087,  2.94164085]],\n",
       "\n",
       "       [[ 0.09826498,  0.0923594 ,  0.08870795, ...,  0.09152475,\n",
       "          0.09148938,  0.09045666],\n",
       "        [-1.08133364, -1.07696104, -1.0749408 , ..., -1.07796669,\n",
       "         -1.07806981, -1.07827032],\n",
       "        [ 2.92298913,  2.91001964,  2.90278888, ...,  2.90202594,\n",
       "          2.90209103,  2.90111446]]])"
      ]
     },
     "execution_count": 32,
     "metadata": {},
     "output_type": "execute_result"
    }
   ],
   "source": [
    "mat_contents[\"d_skel\"]"
   ]
  }
 ],
 "metadata": {
  "kernelspec": {
   "display_name": "Python 3",
   "language": "python",
   "name": "python3"
  },
  "language_info": {
   "codemirror_mode": {
    "name": "ipython",
    "version": 3
   },
   "file_extension": ".py",
   "mimetype": "text/x-python",
   "name": "python",
   "nbconvert_exporter": "python",
   "pygments_lexer": "ipython3",
   "version": "3.6.1"
  }
 },
 "nbformat": 4,
 "nbformat_minor": 2
}
