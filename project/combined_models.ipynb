{
 "cells": [
  {
<<<<<<< HEAD
   "cell_type": "markdown",
   "metadata": {
    "slideshow": {
     "slide_type": "slide"
    }
   },
=======
   "cell_type": "code",
   "execution_count": 1,
   "metadata": {},
   "outputs": [],
>>>>>>> 2abed14289f45425fefb0782aa215a8fa01b662e
   "source": [
    "## Human  Activity Recognition \n",
    "\n",
    "### Sense Making And Insight Discovery\n",
    "\n",
    "<small>\n",
    "- Anand Rajan       A0163200B\n",
    "- GU JIAHAO GAELAN  A0163252M\n",
    "- Suma Mulpuru      A0163231U\n",
    "- SUNIL PRAKASH\t    A0163449X \n",
    "</small>"
   ]
  },
  {
   "cell_type": "code",
<<<<<<< HEAD
   "execution_count": 1,
   "metadata": {
    "collapsed": true,
    "slideshow": {
     "slide_type": "skip"
    }
   },
=======
   "execution_count": 2,
   "metadata": {},
>>>>>>> 2abed14289f45425fefb0782aa215a8fa01b662e
   "outputs": [],
   "source": [
    "import numpy as np\n",
    "from SensorHMM import SensorHMM\n",
    "%matplotlib inline"
   ]
  },
  {
   "cell_type": "markdown",
   "metadata": {
    "slideshow": {
     "slide_type": "slide"
    }
   },
   "source": [
    "Lets Classify **Skeleton** Data\n",
    "\n"
   ]
  },
  {
   "cell_type": "code",
<<<<<<< HEAD
   "execution_count": 1,
   "metadata": {
    "collapsed": true
   },
=======
   "execution_count": 3,
   "metadata": {},
>>>>>>> 2abed14289f45425fefb0782aa215a8fa01b662e
   "outputs": [],
   "source": [
    "actions= ['a1','a2','a3'] # training only on specified actions"
   ]
  },
  {
   "cell_type": "code",
   "execution_count": 4,
<<<<<<< HEAD
   "metadata": {
    "collapsed": true
   },
=======
   "metadata": {},
>>>>>>> 2abed14289f45425fefb0782aa215a8fa01b662e
   "outputs": [],
   "source": [
    "skeleton_model = SensorHMM(\"skeleton\",data_directory=\"Skeleton\", data_key=\"d_skel\",\n",
    "                           no_features=20,n_components=4 )"
   ]
  },
  {
   "cell_type": "code",
   "execution_count": 5,
   "metadata": {},
   "outputs": [
    {
     "name": "stdout",
     "output_type": "stream",
     "text": [
      "Data loaded  861\n"
     ]
    }
   ],
   "source": [
    "all_data_skeleton = skeleton_model.load_data()"
   ]
  },
  {
   "cell_type": "code",
   "execution_count": 6,
   "metadata": {},
   "outputs": [
    {
     "name": "stdout",
     "output_type": "stream",
     "text": [
      "Done splitting 702 159\n"
     ]
    }
   ],
   "source": [
    "training_data, testing_data = skeleton_model.split_data(all_data_skeleton)"
   ]
  },
  {
   "cell_type": "code",
   "execution_count": 7,
   "metadata": {},
   "outputs": [
    {
     "name": "stdout",
     "output_type": "stream",
     "text": [
      "training for  a1\n",
      "(1560, 20)\n",
      "ll 119659.163718\n",
      "training for  a2\n",
      "(1548, 20)\n",
      "ll 120747.515238\n",
      "training for  a3\n",
      "(1679, 20)\n",
      "ll 126619.041295\n",
      "** training complete **\n"
     ]
    }
   ],
   "source": [
    "skeleton_model.fit(training_data,actions=actions)"
   ]
  },
  {
   "cell_type": "code",
   "execution_count": 8,
   "metadata": {
    "collapsed": true
   },
   "outputs": [],
   "source": [
    "predictedY,predictedP = skeleton_model.predict(testing_data)\n",
    "_,testY = zip(*[(testx,testy) for testx,testy in testing_data if testy in actions])"
   ]
  },
  {
   "cell_type": "code",
   "execution_count": 9,
   "metadata": {},
   "outputs": [
    {
     "name": "stdout",
     "output_type": "stream",
     "text": [
      "0.666666666667\n",
      "             precision    recall  f1-score   support\n",
      "\n",
      "         a1       1.00      0.67      0.80         6\n",
      "         a2       0.50      0.83      0.62         6\n",
      "         a3       0.75      0.50      0.60         6\n",
      "\n",
      "avg / total       0.75      0.67      0.68        18\n",
      "\n",
      "Confusion matrix, without normalization\n",
      "[[4 2 0]\n",
      " [0 5 1]\n",
      " [0 3 3]]\n"
     ]
    },
    {
     "data": {
      "image/png": "iVBORw0KGgoAAAANSUhEUgAAAUAAAAEmCAYAAAATPUntAAAABHNCSVQICAgIfAhkiAAAAAlwSFlz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\nMyssJ0AzK6z/D1TORiHeoPXfAAAAAElFTkSuQmCC\n",
      "text/plain": [
       "<matplotlib.figure.Figure at 0x110b27f98>"
      ]
     },
     "metadata": {},
     "output_type": "display_data"
    }
   ],
   "source": [
    "skeleton_model.print_classification_report(testY,predictedY)"
   ]
  },
  {
   "cell_type": "markdown",
   "metadata": {},
   "source": [
    "Lets Classify **Interial** Data"
   ]
  },
  {
   "cell_type": "code",
   "execution_count": 10,
   "metadata": {
    "collapsed": true
   },
   "outputs": [],
   "source": [
    "inertial_model = SensorHMM(\"inertial\",data_directory=\"Inertial\", data_key=\"d_iner\",\n",
    "                           no_features=6,n_components=20 )"
   ]
  },
  {
   "cell_type": "code",
   "execution_count": 11,
   "metadata": {},
   "outputs": [
    {
     "name": "stdout",
     "output_type": "stream",
     "text": [
      "Data loaded  861\n"
     ]
    }
   ],
   "source": [
    "all_data_inertial = inertial_model.load_data()"
   ]
  },
  {
   "cell_type": "code",
   "execution_count": 12,
   "metadata": {},
   "outputs": [
    {
     "name": "stdout",
     "output_type": "stream",
     "text": [
      "Done splitting 702 159\n"
     ]
    }
   ],
   "source": [
    "training_data_inertial, testing_data_inertial = inertial_model.split_data(all_data_inertial)"
   ]
  },
  {
   "cell_type": "code",
   "execution_count": 13,
   "metadata": {},
   "outputs": [
    {
     "name": "stdout",
     "output_type": "stream",
     "text": [
      "training for  a1\n",
      "(4140, 6)\n"
     ]
    },
    {
     "name": "stderr",
     "output_type": "stream",
     "text": [
      "/usr/local/anaconda3/envs/nus/lib/python3.6/site-packages/hmmlearn/base.py:460: RuntimeWarning: divide by zero encountered in log\n",
      "  np.log(self.transmat_),\n",
      "/usr/local/anaconda3/envs/nus/lib/python3.6/site-packages/hmmlearn/base.py:469: RuntimeWarning: divide by zero encountered in log\n",
      "  np.log(self.transmat_),\n",
      "/usr/local/anaconda3/envs/nus/lib/python3.6/site-packages/hmmlearn/base.py:624: RuntimeWarning: divide by zero encountered in log\n",
      "  np.log(self.transmat_),\n"
     ]
    },
    {
     "name": "stdout",
     "output_type": "stream",
     "text": [
      "ll -61110.4704711\n",
      "training for  a2\n",
      "(4125, 6)\n"
     ]
    },
    {
     "name": "stderr",
     "output_type": "stream",
     "text": [
      "/usr/local/anaconda3/envs/nus/lib/python3.6/site-packages/hmmlearn/base.py:460: RuntimeWarning: divide by zero encountered in log\n",
      "  np.log(self.transmat_),\n",
      "/usr/local/anaconda3/envs/nus/lib/python3.6/site-packages/hmmlearn/base.py:469: RuntimeWarning: divide by zero encountered in log\n",
      "  np.log(self.transmat_),\n",
      "/usr/local/anaconda3/envs/nus/lib/python3.6/site-packages/hmmlearn/base.py:624: RuntimeWarning: divide by zero encountered in log\n",
      "  np.log(self.transmat_),\n"
     ]
    },
    {
     "name": "stdout",
     "output_type": "stream",
     "text": [
      "ll -61490.6449485\n",
      "training for  a3\n",
      "(4521, 6)\n"
     ]
    },
    {
     "name": "stderr",
     "output_type": "stream",
     "text": [
      "/usr/local/anaconda3/envs/nus/lib/python3.6/site-packages/hmmlearn/base.py:460: RuntimeWarning: divide by zero encountered in log\n",
      "  np.log(self.transmat_),\n",
      "/usr/local/anaconda3/envs/nus/lib/python3.6/site-packages/hmmlearn/base.py:469: RuntimeWarning: divide by zero encountered in log\n",
      "  np.log(self.transmat_),\n",
      "/usr/local/anaconda3/envs/nus/lib/python3.6/site-packages/hmmlearn/base.py:624: RuntimeWarning: divide by zero encountered in log\n",
      "  np.log(self.transmat_),\n"
     ]
    },
    {
     "name": "stdout",
     "output_type": "stream",
     "text": [
      "ll -78711.9381161\n",
      "** training complete **\n"
     ]
    }
   ],
   "source": [
    "inertial_model.fit(training_data_inertial,actions=actions)"
   ]
  },
  {
   "cell_type": "code",
   "execution_count": 14,
   "metadata": {},
   "outputs": [
    {
     "name": "stderr",
     "output_type": "stream",
     "text": [
      "/usr/local/anaconda3/envs/nus/lib/python3.6/site-packages/hmmlearn/base.py:460: RuntimeWarning: divide by zero encountered in log\n",
      "  np.log(self.transmat_),\n"
     ]
    }
   ],
   "source": [
    "predictedY_inertial,predictedP_inertial = inertial_model.predict(testing_data_inertial)\n",
    "_,testY_inertial = zip(*[(testx,testy) for testx,testy in testing_data_inertial if testy in actions])"
   ]
  },
  {
   "cell_type": "code",
   "execution_count": 15,
   "metadata": {},
   "outputs": [
    {
     "name": "stdout",
     "output_type": "stream",
     "text": [
      "0.944444444444\n",
      "             precision    recall  f1-score   support\n",
      "\n",
      "         a1       1.00      1.00      1.00         6\n",
      "         a2       1.00      0.83      0.91         6\n",
      "         a3       0.86      1.00      0.92         6\n",
      "\n",
      "avg / total       0.95      0.94      0.94        18\n",
      "\n",
      "Confusion matrix, without normalization\n",
      "[[6 0 0]\n",
      " [0 5 1]\n",
      " [0 0 6]]\n"
     ]
    },
    {
     "data": {
      "image/png": "iVBORw0KGgoAAAANSUhEUgAAAUAAAAEmCAYAAAATPUntAAAABHNCSVQICAgIfAhkiAAAAAlwSFlz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\nE6CZFdb/BwvtqoVq/Ew0AAAAAElFTkSuQmCC\n",
      "text/plain": [
       "<matplotlib.figure.Figure at 0x11c933ef0>"
      ]
     },
     "metadata": {},
     "output_type": "display_data"
    }
   ],
   "source": [
    "inertial_model.print_classification_report(testY_inertial,predictedY_inertial)"
   ]
  },
  {
   "cell_type": "markdown",
   "metadata": {},
   "source": [
    "Lets classify Image **Depth** Data"
   ]
  },
  {
   "cell_type": "code",
   "execution_count": 16,
   "metadata": {
    "collapsed": true
   },
   "outputs": [],
   "source": [
    "depth_model = SensorHMM(\"depth\",data_directory=\"Depth\", data_key=\"d_depth\",\n",
    "                           no_features=19,n_components=4,params=\"f\" )"
   ]
  },
  {
   "cell_type": "code",
   "execution_count": 17,
   "metadata": {},
   "outputs": [
    {
     "name": "stdout",
     "output_type": "stream",
     "text": [
      "Data loaded  861\n"
     ]
    }
   ],
   "source": [
    "all_data_depth = depth_model.load_data()\n",
    "#depth_model.all_data=all_data_depth"
   ]
  },
  {
   "cell_type": "code",
   "execution_count": 18,
   "metadata": {},
   "outputs": [
    {
     "name": "stdout",
     "output_type": "stream",
     "text": [
      "Done splitting 702 159\n"
     ]
    }
   ],
   "source": [
    "training_data_depth, testing_data_depth = depth_model.split_data(all_data_depth)"
   ]
  },
  {
   "cell_type": "code",
   "execution_count": 19,
   "metadata": {},
   "outputs": [
    {
     "name": "stdout",
     "output_type": "stream",
     "text": [
      "training for  a1\n",
      "(22246, 19)\n",
      "ll -3829983.50012\n",
      "training for  a2\n",
      "(21546, 19)\n",
      "ll -4513741.30962\n",
      "training for  a3\n",
      "(23604, 19)\n",
      "ll -2791556.52088\n",
      "** training complete **\n"
     ]
    },
    {
     "data": {
      "image/png": "iVBORw0KGgoAAAANSUhEUgAAAU0AAAD8CAYAAADzEfagAAAABHNCSVQICAgIfAhkiAAAAAlwSFlz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\nIMNyAAAAAElFTkSuQmCC\n",
      "text/plain": [
       "<matplotlib.figure.Figure at 0x10f11dd68>"
      ]
     },
     "metadata": {},
     "output_type": "display_data"
    }
   ],
   "source": [
    "depth_model.fit(training_data_depth,actions=actions)"
   ]
  },
  {
   "cell_type": "code",
   "execution_count": 20,
   "metadata": {},
   "outputs": [
    {
     "data": {
      "image/png": "iVBORw0KGgoAAAANSUhEUgAAAU0AAAD8CAYAAADzEfagAAAABHNCSVQICAgIfAhkiAAAAAlwSFlz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\nSUVORK5CYII=\n",
      "text/plain": [
       "<matplotlib.figure.Figure at 0x1495826d8>"
      ]
     },
     "metadata": {},
     "output_type": "display_data"
    }
   ],
   "source": [
    "predictedY_depth,predictedP_depth = depth_model.predict(testing_data_depth)\n",
    "_,testY_depth = zip(*[(testx,testy) for testx,testy in testing_data_depth if testy in actions])"
   ]
  },
  {
   "cell_type": "code",
   "execution_count": 21,
   "metadata": {},
   "outputs": [
    {
     "name": "stdout",
     "output_type": "stream",
     "text": [
      "0.666666666667\n",
      "             precision    recall  f1-score   support\n",
      "\n",
      "         a1       0.60      0.50      0.55         6\n",
      "         a2       0.75      0.50      0.60         6\n",
      "         a3       0.67      1.00      0.80         6\n",
      "\n",
      "avg / total       0.67      0.67      0.65        18\n",
      "\n",
      "Confusion matrix, without normalization\n",
      "[[3 1 2]\n",
      " [2 3 1]\n",
      " [0 0 6]]\n"
     ]
    },
    {
     "data": {
      "image/png": "iVBORw0KGgoAAAANSUhEUgAAAUAAAAEmCAYAAAATPUntAAAABHNCSVQICAgIfAhkiAAAAAlwSFlz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\n1v8H3TV8KWenJbAAAAAASUVORK5CYII=\n",
      "text/plain": [
       "<matplotlib.figure.Figure at 0x11c934c18>"
      ]
     },
     "metadata": {},
     "output_type": "display_data"
    }
   ],
   "source": [
    "depth_model.print_classification_report(testY_depth,predictedY_depth)"
   ]
  },
  {
   "cell_type": "code",
   "execution_count": 52,
   "metadata": {},
   "outputs": [
    {
     "name": "stdout",
     "output_type": "stream",
     "text": [
      "[-125274.00856922993, -207241.53352723987, -229626.64809072932, -159103.86487881665, -115067.78271359511, -149860.29589276802, -213506.84694033497, -103641.55145728026, -145239.03087843006, -94711.68438213745, -127891.47667702632, -105102.1692317627, -100165.02314054036, -123349.17730856988, -110289.04003504342, -123355.13269881255, -92858.581626257801, -183415.55491497836] ['a1', 'a2', 'a2', 'a2', 'a3', 'a1', 'a2', 'a3', 'a1', 'a3', 'a1', 'a3', 'a3', 'a3', 'a3', 'a3', 'a3', 'a1']\n"
     ]
    },
    {
     "data": {
      "text/plain": [
       "37755969.106611408"
      ]
     },
     "execution_count": 52,
     "metadata": {},
     "output_type": "execute_result"
    }
   ],
   "source": [
    "print(predictedP_depth,predictedY_depth)\n",
    "#depth_model.show_model_stats('a1',depth_model.models['a1'])\n",
    "np.mean(depth_model.models['a1'].means_)\n",
    "#np.diag(np.mean())\n",
    "np.sqrt(np.mean(np.diag(depth_model.models['a1'].covars_[0])))"
   ]
  },
  {
   "cell_type": "code",
   "execution_count": 53,
   "metadata": {},
   "outputs": [
    {
     "name": "stdout",
     "output_type": "stream",
     "text": [
      "[-2783.1302756804835, -2514.1046004072273, -3386.9160194006236, -2409.0331990206714, -2473.4411178840883, -2741.4228867582046, -2605.2850157883181, -2503.5925448247799, -2900.890853724296, -3199.4186429949691, -3155.2489402654346, -2121.8887882452809, -2110.9826239229797, -2309.9146980226396, -2365.4009256715494, -2501.388679029279, -3414.6385546343354, -2574.9916427423418] ['a1', 'a1', 'a3', 'a1', 'a2', 'a3', 'a1', 'a1', 'a3', 'a3', 'a3', 'a2', 'a2', 'a2', 'a2', 'a3', 'a3', 'a1']\n"
     ]
    },
    {
     "data": {
      "text/plain": [
       "45.41742921963673"
      ]
     },
     "execution_count": 53,
     "metadata": {},
     "output_type": "execute_result"
    }
   ],
   "source": [
    "print(predictedP_inertial,predictedY_inertial)\n",
    "np.mean(inertial_model.models['a1'].means_)\n",
    "np.sqrt(np.mean(np.diag(inertial_model.models['a1'].covars_[0])))"
   ]
  },
  {
   "cell_type": "code",
   "execution_count": 38,
   "metadata": {},
   "outputs": [
    {
     "name": "stdout",
     "output_type": "stream",
     "text": [
      "[4469.8667376799749, 4370.3197859820284, 4656.3807343421422, 4157.9670632297948, 4081.6957710219776, 3260.0110840741436, 3917.1739897913621, 4752.3651047943358, 5628.9062516022359, 3814.3001329767485, 4699.2348216599012, 4627.2502365165028, 5436.5734152992518, 4584.1372929024592, 4369.5358870605023, 4301.2072246978714, 5156.6839135008941, 5323.57850836335] ['a1', 'a2', 'a3', 'a1', 'a1', 'a3', 'a2', 'a2', 'a3', 'a3', 'a2', 'a1', 'a2', 'a2', 'a2', 'a2', 'a2', 'a2']\n"
     ]
    },
    {
     "data": {
      "text/plain": [
       "0.034948864091799439"
      ]
     },
     "execution_count": 38,
     "metadata": {},
     "output_type": "execute_result"
    }
   ],
   "source": [
    "print(predictedP,predictedY)\n",
    "np.mean(skeleton_model.models['a1'].means_)"
   ]
  },
  {
   "cell_type": "code",
   "execution_count": 99,
   "metadata": {
    "collapsed": true
   },
   "outputs": [],
   "source": [
    "def fuse_models(testing_datas,models):\n",
    "    bestLL = float(\"-inf\")\n",
    "    bestAction = None\n",
    "    all_m_actions=[]\n",
    "    all_m_ll=[]\n",
    "    f = np.zeros(18)\n",
    "    for idx,model in enumerate(models):\n",
    "        actions,lls = model.predict(testing_datas[idx])\n",
    "        lls = (lls - np.min(lls))/(np.max(lls)-np.min(lls))\n",
    "        print(np.array(lls).shape,f.shape)\n",
    "        f = np.column_stack((f,lls))\n",
    "    f=np.delete(f,0,axis=1)    \n",
    "    print(f)\n",
    "    print(np.argmax(f,axis=1))\n",
    "    return [bestAction],[ll]"
   ]
  },
  {
   "cell_type": "code",
   "execution_count": 100,
   "metadata": {},
   "outputs": [
    {
     "name": "stdout",
     "output_type": "stream",
     "text": [
      "(18,) (18,)\n",
      "(18,) (18, 2)\n"
     ]
    },
    {
     "name": "stderr",
     "output_type": "stream",
     "text": [
      "/usr/local/anaconda3/envs/nus/lib/python3.6/site-packages/hmmlearn/base.py:460: RuntimeWarning: divide by zero encountered in log\n",
      "  np.log(self.transmat_),\n"
     ]
    },
    {
     "name": "stdout",
     "output_type": "stream",
     "text": [
      "(18,) (18, 3)\n",
      "[[ 0.51  0.48  0.76]\n",
      " [ 0.47  0.69  0.16]\n",
      " [ 0.59  0.02  0.  ]\n",
      " [ 0.38  0.77  0.52]\n",
      " [ 0.35  0.72  0.84]\n",
      " [ 0.    0.52  0.58]\n",
      " [ 0.28  0.62  0.12]\n",
      " [ 0.63  0.7   0.92]\n",
      " [ 1.    0.39  0.62]\n",
      " [ 0.23  0.17  0.99]\n",
      " [ 0.61  0.2   0.74]\n",
      " [ 0.58  0.99  0.91]\n",
      " [ 0.92  1.    0.95]\n",
      " [ 0.56  0.85  0.78]\n",
      " [ 0.47  0.8   0.87]\n",
      " [ 0.44  0.7   0.78]\n",
      " [ 0.8   0.    1.  ]\n",
      " [ 0.87  0.64  0.34]]\n",
      "[2 1 0 1 2 2 1 2 0 2 2 1 1 1 2 2 2 0]\n"
     ]
    },
    {
     "ename": "NameError",
     "evalue": "name 'll' is not defined",
     "output_type": "error",
     "traceback": [
      "\u001b[0;31m---------------------------------------------------------------------------\u001b[0m",
      "\u001b[0;31mNameError\u001b[0m                                 Traceback (most recent call last)",
      "\u001b[0;32m<ipython-input-100-12f24a228895>\u001b[0m in \u001b[0;36m<module>\u001b[0;34m()\u001b[0m\n\u001b[0;32m----> 1\u001b[0;31m \u001b[0mpcy\u001b[0m\u001b[0;34m,\u001b[0m\u001b[0mpcp\u001b[0m \u001b[0;34m=\u001b[0m \u001b[0mfuse_models\u001b[0m\u001b[0;34m(\u001b[0m\u001b[0;34m[\u001b[0m\u001b[0mtesting_data\u001b[0m\u001b[0;34m,\u001b[0m\u001b[0mtesting_data_inertial\u001b[0m\u001b[0;34m,\u001b[0m\u001b[0mtesting_data_depth\u001b[0m\u001b[0;34m]\u001b[0m\u001b[0;34m,\u001b[0m \u001b[0;34m[\u001b[0m\u001b[0mskeleton_model\u001b[0m\u001b[0;34m,\u001b[0m\u001b[0minertial_model\u001b[0m\u001b[0;34m,\u001b[0m \u001b[0mdepth_model\u001b[0m\u001b[0;34m]\u001b[0m\u001b[0;34m)\u001b[0m\u001b[0;34m\u001b[0m\u001b[0m\n\u001b[0m",
      "\u001b[0;32m<ipython-input-99-1bceeb4fd8ce>\u001b[0m in \u001b[0;36mfuse_models\u001b[0;34m(testing_datas, models)\u001b[0m\n\u001b[1;32m     13\u001b[0m     \u001b[0mprint\u001b[0m\u001b[0;34m(\u001b[0m\u001b[0mf\u001b[0m\u001b[0;34m)\u001b[0m\u001b[0;34m\u001b[0m\u001b[0m\n\u001b[1;32m     14\u001b[0m     \u001b[0mprint\u001b[0m\u001b[0;34m(\u001b[0m\u001b[0mnp\u001b[0m\u001b[0;34m.\u001b[0m\u001b[0margmax\u001b[0m\u001b[0;34m(\u001b[0m\u001b[0mf\u001b[0m\u001b[0;34m,\u001b[0m\u001b[0maxis\u001b[0m\u001b[0;34m=\u001b[0m\u001b[0;36m1\u001b[0m\u001b[0;34m)\u001b[0m\u001b[0;34m)\u001b[0m\u001b[0;34m\u001b[0m\u001b[0m\n\u001b[0;32m---> 15\u001b[0;31m     \u001b[0;32mreturn\u001b[0m \u001b[0;34m[\u001b[0m\u001b[0mbestAction\u001b[0m\u001b[0;34m]\u001b[0m\u001b[0;34m,\u001b[0m\u001b[0;34m[\u001b[0m\u001b[0mll\u001b[0m\u001b[0;34m]\u001b[0m\u001b[0;34m\u001b[0m\u001b[0m\n\u001b[0m",
      "\u001b[0;31mNameError\u001b[0m: name 'll' is not defined"
     ]
    },
    {
     "data": {
      "image/png": "iVBORw0KGgoAAAANSUhEUgAAAU0AAAD8CAYAAADzEfagAAAABHNCSVQICAgIfAhkiAAAAAlwSFlz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\nSUVORK5CYII=\n",
      "text/plain": [
       "<matplotlib.figure.Figure at 0x1499a5278>"
      ]
     },
     "metadata": {},
     "output_type": "display_data"
    }
   ],
   "source": [
    "pcy,pcp = fuse_models([testing_data,testing_data_inertial,testing_data_depth], [skeleton_model,inertial_model, depth_model])"
   ]
  },
  {
   "cell_type": "code",
   "execution_count": null,
   "metadata": {
    "collapsed": true
   },
   "outputs": [],
   "source": []
  }
 ],
 "metadata": {
  "celltoolbar": "Slideshow",
  "kernelspec": {
   "display_name": "Python 3",
   "language": "python",
   "name": "python3"
  },
  "language_info": {
   "codemirror_mode": {
    "name": "ipython",
    "version": 3
   },
   "file_extension": ".py",
   "mimetype": "text/x-python",
   "name": "python",
   "nbconvert_exporter": "python",
   "pygments_lexer": "ipython3",
<<<<<<< HEAD
   "version": "3.6.1"
  },
  "livereveal": {
   "start_slideshow_at": "selected",
   "theme": "sky",
   "transition": "zoom"
=======
   "version": "3.6.3"
>>>>>>> 2abed14289f45425fefb0782aa215a8fa01b662e
  }
 },
 "nbformat": 4,
 "nbformat_minor": 2
}
