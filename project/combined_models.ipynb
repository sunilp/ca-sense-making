{
 "cells": [
  {
   "cell_type": "code",
   "execution_count": 1,
   "metadata": {},
   "outputs": [],
   "source": [
    "import numpy as np\n",
    "from SensorHMM import SensorHMM"
   ]
  },
  {
   "cell_type": "code",
   "execution_count": 2,
   "metadata": {},
   "outputs": [],
   "source": [
    "%matplotlib inline"
   ]
  },
  {
   "cell_type": "markdown",
   "metadata": {},
   "source": []
  },
  {
   "cell_type": "markdown",
   "metadata": {},
   "source": [
    "Lets Classify **Skeleton** Data\n",
    "\n"
   ]
  },
  {
   "cell_type": "code",
   "execution_count": 3,
   "metadata": {},
   "outputs": [],
   "source": [
    "# training only on specified actions\n",
    "actions= ['a1','a2','a3']"
   ]
  },
  {
   "cell_type": "code",
   "execution_count": 4,
   "metadata": {},
   "outputs": [],
   "source": [
    "skeleton_model = SensorHMM(\"skeleton\",data_directory=\"Skeleton\", data_key=\"d_skel\",\n",
    "                           no_features=20,n_components=4 )"
   ]
  },
  {
   "cell_type": "code",
   "execution_count": 5,
   "metadata": {},
   "outputs": [
    {
     "name": "stdout",
     "output_type": "stream",
     "text": [
      "Data loaded  861\n"
     ]
    }
   ],
   "source": [
    "all_data_skeleton = skeleton_model.load_data()"
   ]
  },
  {
   "cell_type": "code",
   "execution_count": 10,
   "metadata": {},
   "outputs": [
    {
     "name": "stdout",
     "output_type": "stream",
     "text": [
      "Done splitting 702 159\n"
     ]
    }
   ],
   "source": [
    "training_data, testing_data = skeleton_model.split_data(all_data_skeleton)"
   ]
  },
  {
   "cell_type": "code",
   "execution_count": 11,
   "metadata": {},
   "outputs": [
    {
     "name": "stdout",
     "output_type": "stream",
     "text": [
      "training for  a1\n",
      "(1560, 20)\n",
      "ll 119659.163718\n",
      "training for  a2\n",
      "(1548, 20)\n",
      "ll 120747.515238\n",
      "training for  a3\n",
      "(1679, 20)\n",
      "ll 126619.041295\n",
      "** training complete **\n"
     ]
    }
   ],
   "source": [
    "skeleton_model.fit(training_data,actions=actions)"
   ]
  },
  {
   "cell_type": "code",
   "execution_count": 12,
   "metadata": {},
   "outputs": [],
   "source": [
    "predictedY,predictedP = skeleton_model.predict(testing_data)\n",
    "_,testY = zip(*[(testx,testy) for testx,testy in testing_data if testy in actions])"
   ]
  },
  {
   "cell_type": "code",
   "execution_count": 13,
   "metadata": {},
   "outputs": [
    {
     "name": "stdout",
     "output_type": "stream",
     "text": [
      "0.666666666667\n",
      "             precision    recall  f1-score   support\n",
      "\n",
      "         a1       1.00      0.67      0.80         6\n",
      "         a2       0.50      0.83      0.62         6\n",
      "         a3       0.75      0.50      0.60         6\n",
      "\n",
      "avg / total       0.75      0.67      0.68        18\n",
      "\n",
      "Confusion matrix, without normalization\n",
      "[[4 2 0]\n",
      " [0 5 1]\n",
      " [0 3 3]]\n"
     ]
    },
    {
     "data": {
      "image/png": "[encoded data removed]",
      "text/plain": [
       "<matplotlib.figure.Figure at 0x113d28eb8>"
      ]
     },
     "metadata": {},
     "output_type": "display_data"
    }
   ],
   "source": [
    "skeleton_model.print_classification_report(testY,predictedY)"
   ]
  },
  {
   "cell_type": "markdown",
   "metadata": {},
   "source": [
    "Lets Classify **Interial** Data"
   ]
  },
  {
   "cell_type": "code",
   "execution_count": 14,
   "metadata": {},
   "outputs": [],
   "source": [
    "inertial_model = SensorHMM(\"inertial\",data_directory=\"Inertial\", data_key=\"d_iner\",\n",
    "                           no_features=6,n_components=20 )"
   ]
  },
  {
   "cell_type": "code",
   "execution_count": 15,
   "metadata": {},
   "outputs": [
    {
     "name": "stdout",
     "output_type": "stream",
     "text": [
      "Data loaded  861\n"
     ]
    }
   ],
   "source": [
    "all_data_inertial = inertial_model.load_data()"
   ]
  },
  {
   "cell_type": "code",
   "execution_count": 16,
   "metadata": {},
   "outputs": [
    {
     "name": "stdout",
     "output_type": "stream",
     "text": [
      "Done splitting 702 159\n"
     ]
    }
   ],
   "source": [
    "training_data_inertial, testing_data_inertial = inertial_model.split_data(all_data_inertial)"
   ]
  },
  {
   "cell_type": "code",
   "execution_count": 17,
   "metadata": {},
   "outputs": [
    {
     "name": "stdout",
     "output_type": "stream",
     "text": [
      "training for  a1\n",
      "(4140, 6)\n"
     ]
    },
    {
     "name": "stderr",
     "output_type": "stream",
     "text": [
      "/usr/local/anaconda3/envs/nus/lib/python3.6/site-packages/hmmlearn/base.py:460: RuntimeWarning: divide by zero encountered in log\n",
      "  np.log(self.transmat_),\n",
      "/usr/local/anaconda3/envs/nus/lib/python3.6/site-packages/hmmlearn/base.py:469: RuntimeWarning: divide by zero encountered in log\n",
      "  np.log(self.transmat_),\n",
      "/usr/local/anaconda3/envs/nus/lib/python3.6/site-packages/hmmlearn/base.py:624: RuntimeWarning: divide by zero encountered in log\n",
      "  np.log(self.transmat_),\n"
     ]
    },
    {
     "name": "stdout",
     "output_type": "stream",
     "text": [
      "ll -61110.4704711\n",
      "training for  a2\n",
      "(4125, 6)\n"
     ]
    },
    {
     "name": "stderr",
     "output_type": "stream",
     "text": [
      "/usr/local/anaconda3/envs/nus/lib/python3.6/site-packages/hmmlearn/base.py:460: RuntimeWarning: divide by zero encountered in log\n",
      "  np.log(self.transmat_),\n",
      "/usr/local/anaconda3/envs/nus/lib/python3.6/site-packages/hmmlearn/base.py:469: RuntimeWarning: divide by zero encountered in log\n",
      "  np.log(self.transmat_),\n",
      "/usr/local/anaconda3/envs/nus/lib/python3.6/site-packages/hmmlearn/base.py:624: RuntimeWarning: divide by zero encountered in log\n",
      "  np.log(self.transmat_),\n"
     ]
    },
    {
     "name": "stdout",
     "output_type": "stream",
     "text": [
      "ll -61490.6449485\n",
      "training for  a3\n",
      "(4521, 6)\n"
     ]
    },
    {
     "name": "stderr",
     "output_type": "stream",
     "text": [
      "/usr/local/anaconda3/envs/nus/lib/python3.6/site-packages/hmmlearn/base.py:460: RuntimeWarning: divide by zero encountered in log\n",
      "  np.log(self.transmat_),\n",
      "/usr/local/anaconda3/envs/nus/lib/python3.6/site-packages/hmmlearn/base.py:469: RuntimeWarning: divide by zero encountered in log\n",
      "  np.log(self.transmat_),\n",
      "/usr/local/anaconda3/envs/nus/lib/python3.6/site-packages/hmmlearn/base.py:624: RuntimeWarning: divide by zero encountered in log\n",
      "  np.log(self.transmat_),\n"
     ]
    },
    {
     "name": "stdout",
     "output_type": "stream",
     "text": [
      "ll -78711.9381161\n",
      "** training complete **\n"
     ]
    }
   ],
   "source": [
    "inertial_model.fit(training_data_inertial,actions=actions)"
   ]
  },
  {
   "cell_type": "code",
   "execution_count": 18,
   "metadata": {},
   "outputs": [
    {
     "name": "stderr",
     "output_type": "stream",
     "text": [
      "/usr/local/anaconda3/envs/nus/lib/python3.6/site-packages/hmmlearn/base.py:460: RuntimeWarning: divide by zero encountered in log\n",
      "  np.log(self.transmat_),\n"
     ]
    }
   ],
   "source": [
    "predictedY_inertial,predictedP_inertial = inertial_model.predict(testing_data_inertial)\n",
    "_,testY_inertial = zip(*[(testx,testy) for testx,testy in testing_data_inertial if testy in actions])"
   ]
  },
  {
   "cell_type": "code",
   "execution_count": 19,
   "metadata": {},
   "outputs": [
    {
     "name": "stdout",
     "output_type": "stream",
     "text": [
      "0.944444444444\n",
      "             precision    recall  f1-score   support\n",
      "\n",
      "         a1       1.00      1.00      1.00         6\n",
      "         a2       1.00      0.83      0.91         6\n",
      "         a3       0.86      1.00      0.92         6\n",
      "\n",
      "avg / total       0.95      0.94      0.94        18\n",
      "\n",
      "Confusion matrix, without normalization\n",
      "[[6 0 0]\n",
      " [0 5 1]\n",
      " [0 0 6]]\n"
     ]
    },
    {
     "data": {
      "image/png": "[encoded data removed]",
      "text/plain": [
       "<matplotlib.figure.Figure at 0x113ee8e48>"
      ]
     },
     "metadata": {},
     "output_type": "display_data"
    }
   ],
   "source": [
    "inertial_model.print_classification_report(testY_inertial,predictedY_inertial)"
   ]
  },
  {
   "cell_type": "markdown",
   "metadata": {},
   "source": [
    "Lets classify Image **Depth** Data"
   ]
  },
  {
   "cell_type": "code",
   "execution_count": 20,
   "metadata": {
    "collapsed": true
   },
   "outputs": [],
   "source": [
    "depth_model = SensorHMM(\"depth\",data_directory=\"Depth\", data_key=\"d_depth\",\n",
    "                           no_features=19,n_components=4,params=\"f\" )"
   ]
  },
  {
   "cell_type": "code",
   "execution_count": 21,
   "metadata": {},
   "outputs": [
    {
     "name": "stdout",
     "output_type": "stream",
     "text": [
      "Data loaded  861\n"
     ]
    }
   ],
   "source": [
    "all_data_depth = depth_model.load_data()\n",
    "#depth_model.all_data=all_data_depth"
   ]
  },
  {
   "cell_type": "code",
   "execution_count": null,
   "metadata": {},
   "outputs": [
    {
     "name": "stdout",
     "output_type": "stream",
     "text": [
      "Done splitting 702 159\n"
     ]
    }
   ],
   "source": [
    "training_data_depth, testing_data_depth = depth_model.split_data(all_data_depth)"
   ]
  },
  {
   "cell_type": "code",
   "execution_count": null,
   "metadata": {},
   "outputs": [],
   "source": [
    "depth_model.fit(training_data_depth,actions=actions)"
   ]
  },
  {
   "cell_type": "code",
   "execution_count": null,
   "metadata": {},
   "outputs": [],
   "source": [
    "predictedY_depth,predictedP_depth = depth_model.predict(testing_data_depth)\n",
    "_,testY_depth = zip(*[(testx,testy) for testx,testy in testing_data_depth if testy in actions])"
   ]
  },
  {
   "cell_type": "code",
   "execution_count": null,
   "metadata": {},
   "outputs": [],
   "source": [
    "depth_model.print_classification_report(testY_depth,predictedY_depth)"
   ]
  }
 ],
 "metadata": {
  "kernelspec": {
   "display_name": "Python 3",
   "language": "python",
   "name": "python3"
  },
  "language_info": {
   "codemirror_mode": {
    "name": "ipython",
    "version": 3
   },
   "file_extension": ".py",
   "mimetype": "text/x-python",
   "name": "python",
   "nbconvert_exporter": "python",
   "pygments_lexer": "ipython3",
   "version": "3.6.3"
  }
 },
 "nbformat": 4,
 "nbformat_minor": 2
}
