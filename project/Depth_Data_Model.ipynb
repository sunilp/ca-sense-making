{
 "cells": [
  {
   "cell_type": "code",
   "execution_count": 35,
   "metadata": {},
   "outputs": [
    {
     "ename": "ModuleNotFoundError",
     "evalue": "No module named 'msmbuilder'",
     "output_type": "error",
     "traceback": [
      "\u001b[1;31m---------------------------------------------------------------------------\u001b[0m",
      "\u001b[1;31mModuleNotFoundError\u001b[0m                       Traceback (most recent call last)",
      "\u001b[1;32m<ipython-input-35-aef37cfc86e5>\u001b[0m in \u001b[0;36m<module>\u001b[1;34m()\u001b[0m\n\u001b[0;32m      8\u001b[0m \u001b[1;32mimport\u001b[0m \u001b[0mmatplotlib\u001b[0m\u001b[1;33m.\u001b[0m\u001b[0mpyplot\u001b[0m \u001b[1;32mas\u001b[0m \u001b[0mplt\u001b[0m\u001b[1;33m\u001b[0m\u001b[0m\n\u001b[0;32m      9\u001b[0m \u001b[0mget_ipython\u001b[0m\u001b[1;33m(\u001b[0m\u001b[1;33m)\u001b[0m\u001b[1;33m.\u001b[0m\u001b[0mmagic\u001b[0m\u001b[1;33m(\u001b[0m\u001b[1;34m'matplotlib inline'\u001b[0m\u001b[1;33m)\u001b[0m\u001b[1;33m\u001b[0m\u001b[0m\n\u001b[1;32m---> 10\u001b[1;33m \u001b[1;32mfrom\u001b[0m \u001b[0mmsmbuilder\u001b[0m\u001b[1;33m.\u001b[0m\u001b[0mghmm\u001b[0m \u001b[1;32mimport\u001b[0m \u001b[0mGaussianFusionHMM\u001b[0m\u001b[1;33m\u001b[0m\u001b[0m\n\u001b[0m",
      "\u001b[1;31mModuleNotFoundError\u001b[0m: No module named 'msmbuilder'"
     ]
    }
   ],
   "source": [
    "import pandas as pd\n",
    "import numpy as np\n",
    "from scipy.io import loadmat\n",
    "import os\n",
    "from collections import defaultdict\n",
    "import warnings\n",
    "from hmmlearn.hmm import GaussianHMM\n",
    "import matplotlib.pyplot as plt\n",
    "%matplotlib inline\n",
    "from msmbuilder.ghmm import GaussianFusionHMM"
   ]
  },
  {
   "cell_type": "code",
   "execution_count": 7,
   "metadata": {
    "collapsed": true
   },
   "outputs": [],
   "source": [
    "def load_depth_data():\n",
    "    dir_path = \"Depth\"\n",
    "    files = os.listdir(dir_path)\n",
    "    all_data = [] \n",
    "    for ii, file in enumerate(files, 1):\n",
    "        #print(ii, file)\n",
    "        if file.endswith(\".mat\"):\n",
    "            mat_contents = loadmat(dir_path+'/'+file)\n",
    "            d_depth=mat_contents[\"d_depth\"]\n",
    "            action = file.split(\"_\")[0]\n",
    "            all_data.append((d_depth,action))\n",
    "    print(len(all_data))\n",
    "    return all_data"
   ]
  },
  {
   "cell_type": "code",
   "execution_count": 8,
   "metadata": {
    "collapsed": true
   },
   "outputs": [],
   "source": [
    "def split_data(all_data, all_actions,split_at):\n",
    "    ddct = defaultdict(list)\n",
    "    training_data=[]\n",
    "    testing_data=[]\n",
    "    for X,y in all_data:\n",
    "        for action in all_actions:\n",
    "            if(action == y):\n",
    "                ddct[action].append(1)\n",
    "                if len(ddct[action]) < split_at+1:\n",
    "                    training_data.append((X,y))\n",
    "                else:\n",
    "                    testing_data.append((X,y))\n",
    "    return training_data, testing_data"
   ]
  },
  {
   "cell_type": "code",
   "execution_count": 9,
   "metadata": {},
   "outputs": [
    {
     "name": "stdout",
     "output_type": "stream",
     "text": [
      "['a1', 'a2', 'a3', 'a4', 'a5', 'a6', 'a7', 'a8', 'a9', 'a10', 'a11', 'a12', 'a13', 'a14', 'a15', 'a16', 'a17', 'a18', 'a19', 'a20', 'a21', 'a22', 'a23', 'a24', 'a25', 'a26', 'a27']\n"
     ]
    }
   ],
   "source": [
    "all_actions=[\"a\"+str(num) for num in range(1,28)]\n",
    "print(all_actions)\n",
    "\n",
    "split_at = 26 #as each data contains 32 records so 26 for training and 6 for test"
   ]
  },
  {
   "cell_type": "code",
   "execution_count": 10,
   "metadata": {},
   "outputs": [
    {
     "name": "stdout",
     "output_type": "stream",
     "text": [
      "861\n"
     ]
    }
   ],
   "source": [
    "all_data_depth = load_depth_data()\n",
    "training_data_depth, testing_data_depth = split_data(all_data_depth,all_actions,26)"
   ]
  },
  {
   "cell_type": "code",
   "execution_count": 11,
   "metadata": {},
   "outputs": [
    {
     "name": "stdout",
     "output_type": "stream",
     "text": [
      "training.. 702\n",
      "testing.. 159\n"
     ]
    }
   ],
   "source": [
    "print(\"training..\" , len(training_data_depth))\n",
    "print(\"testing..\" , len(testing_data_depth))"
   ]
  },
  {
   "cell_type": "code",
   "execution_count": 20,
   "metadata": {
    "collapsed": true
   },
   "outputs": [],
   "source": [
    "def train_an_action_depth(action, num_hidden_states, features,lengths):\n",
    "    \n",
    "    warnings.filterwarnings(\"ignore\", category=DeprecationWarning)  \n",
    "    model = GaussianHMM(n_components=num_hidden_states, n_iter=1000,random_state=123,params=\"f\").fit(features,lengths)\n",
    "    logL = model.score(features,lengths)\n",
    "    return model, logL\n"
   ]
  },
  {
   "cell_type": "code",
   "execution_count": 21,
   "metadata": {
    "collapsed": true
   },
   "outputs": [],
   "source": [
    "def get_hmm_formatted_features_depth(records,action):\n",
    "    x_contatinated = []\n",
    "    lengths=[]\n",
    "    \n",
    "    actions = fetch_training_data_by_action(records,action)\n",
    "    action_features,_ = zip(*actions)\n",
    "    print(len(action_features))\n",
    "    print(action_features[0].shape)\n",
    "    w_k_v = np.array([[3,0,-3],[10,0,-10],[3,0,-3]])\n",
    "    w_k_h = np.array([[3,10,3],[0,0,0],[-3,-10,-3]])\n",
    "    \n",
    "    \n",
    "    for subject_action in list(action_features):\n",
    "        lengths.append(subject_action.shape[2])\n",
    "        \n",
    "        \n",
    "        \n",
    "        for i in range(subject_action.shape[2]):\n",
    "            #print(i)\n",
    "            lay1_b = subject_action[:,:,i]\n",
    "            \n",
    "            for j in range(5):\n",
    "                #print(lay1_b.shape, w_k_v.shape,subject_action[:,:,i].shape)\n",
    "                lay1v = signal.convolve2d(lay1_b, w_k_v, 'valid')\n",
    "                lay1h = signal.convolve2d(lay1_b, w_k_v, 'valid')\n",
    "                #print(lay1v.shape)\n",
    "                #lay1_c = np.stack([lay1v,lay1h], axis=2)\n",
    "                lay1_b = skimage.measure.block_reduce(lay1v, (2,2), np.max)\n",
    "            #print(subject_action[:,:,i].shape)\n",
    "            #print(lay1_b.shape)\n",
    "            \n",
    "            x_contatinated.append(lay1_b.reshape(-1,))\n",
    "    #len(x_contatinated)\n",
    "    #print(x_contatinated[0])\n",
    "    #print(x_contatinated[1])\n",
    "    #x_contatinated = np.delete(x_contatinated, 0, axis=0)\n",
    "    print(np.array(x_contatinated).shape)\n",
    "    #print(x_contatinated[0])\n",
    "    #print(x_contatinated[1])\n",
    "    print(lengths)\n",
    "    return np.array(x_contatinated),lengths"
   ]
  },
  {
   "cell_type": "code",
   "execution_count": 22,
   "metadata": {},
   "outputs": [
    {
     "name": "stdout",
     "output_type": "stream",
     "text": [
      "26\n",
      "(240, 320, 48)\n",
      "(1566, 54)\n",
      "[48, 52, 53, 61, 58, 60, 56, 55, 56, 52, 50, 58, 55, 56, 56, 63, 69, 63, 72, 68, 71, 71, 70, 72, 59, 62]\n"
     ]
    }
   ],
   "source": [
    "depth_X,depth_lengths = get_hmm_formatted_features_depth(training_data_depth,'a1')"
   ]
  },
  {
   "cell_type": "code",
   "execution_count": 25,
   "metadata": {
    "collapsed": true
   },
   "outputs": [],
   "source": [
    "\n",
    "depth_model, depth_logL = train_an_action_depth('a1', 3, depth_X ,depth_lengths)"
   ]
  },
  {
   "cell_type": "code",
   "execution_count": 27,
   "metadata": {},
   "outputs": [
    {
     "name": "stdout",
     "output_type": "stream",
     "text": [
      "Number of states trained in model for a1 is 3\n"
     ]
    }
   ],
   "source": [
    "\n",
    "print(\"Number of states trained in model for {} is {}\".format('a1', depth_model.n_components))\n",
    "#print(\"logL = {}\".format(logL))"
   ]
  },
  {
   "cell_type": "code",
   "execution_count": 28,
   "metadata": {},
   "outputs": [
    {
     "name": "stdout",
     "output_type": "stream",
     "text": [
      "6\n",
      "(240, 320, 56)\n",
      "(386, 54)\n",
      "[56, 55, 76, 66, 69, 64]\n"
     ]
    }
   ],
   "source": [
    "test_AsX,test_A3sL = get_hmm_formatted_features_depth(testing_data_depth,'a1')\n",
    "pr1 = depth_model.score([test_AsX[0],test_AsX[1]])"
   ]
  },
  {
   "cell_type": "code",
   "execution_count": 30,
   "metadata": {},
   "outputs": [
    {
     "name": "stdout",
     "output_type": "stream",
     "text": [
      "Number of states trained in model for a1 is 3\n",
      "hidden state #0\n",
      "mean =  [  1.30385160e-08   4.43695036e+07   6.14142025e+08   1.48170032e+08\n",
      "   2.91503517e+07   3.34394441e+05   1.41820738e+03   0.00000000e+00\n",
      "   0.00000000e+00  -6.05359674e-09   3.75973190e+08   1.81298750e+09\n",
      "   1.12333182e+09   3.41559678e+08   1.15636197e+07   9.52397589e+05\n",
      "   0.00000000e+00   0.00000000e+00   6.69388101e-10   4.05363483e+08\n",
      "   1.04155345e+09   1.37229568e+09   1.88848016e+08   3.72332207e+07\n",
      "   2.84244745e+06   0.00000000e+00   0.00000000e+00   0.00000000e+00\n",
      "   2.01031021e+08   9.94122304e+08   1.59290523e+09   3.97772728e+08\n",
      "   7.49660919e+07   8.98503105e+05   0.00000000e+00   0.00000000e+00\n",
      "   0.00000000e+00   5.26798303e+07   7.14355916e+08   1.39249944e+09\n",
      "   3.04202375e+08   2.52033557e+07   1.24400459e+04   0.00000000e+00\n",
      "   0.00000000e+00   0.00000000e+00   0.00000000e+00   1.41556760e+09\n",
      "   1.55994532e+09   6.37016267e+08   1.38254995e+04   0.00000000e+00\n",
      "   0.00000000e+00   0.00000000e+00]\n",
      "variance =  [  1.73373903e+15   5.22649240e+16   2.90772071e+17   3.54769368e+17\n",
      "   1.45740263e+17   4.62501486e+13   4.27239439e+10   1.00000000e-03\n",
      "   1.00000000e-03   3.33539329e+15   5.69200811e+17   1.69128301e+17\n",
      "   6.89846052e+17   5.01890575e+17   4.26084123e+15   9.09907568e+13\n",
      "   1.00000000e-03   1.00000000e-03   2.99370437e+12   3.40781431e+17\n",
      "   1.07061940e+18   6.61434366e+17   8.16145619e+17   1.19389124e+16\n",
      "   4.02686017e+14   1.00000000e-03   1.00000000e-03   1.00000000e-03\n",
      "   4.33859414e+17   7.66015030e+17   3.58045595e+17   1.13495946e+18\n",
      "   2.91596606e+16   7.88127678e+13   1.00000000e-03   1.00000000e-03\n",
      "   1.00000000e-03   1.78434002e+17   5.40421497e+17   7.14242766e+17\n",
      "   7.22977655e+17   4.19710293e+15   9.93341565e+10   1.00000000e-03\n",
      "   1.00000000e-03   1.00000000e-03   1.00000000e-03   4.36718236e+17\n",
      "   7.17122301e+17   7.42679753e+17   1.22792480e+11   1.00000000e-03\n",
      "   1.00000000e-03   1.00000000e-03]\n",
      "\n",
      "hidden state #1\n",
      "mean =  [  1.05433485e+07   4.81205754e+08   1.26713801e+09   6.17503117e+08\n",
      "   2.76916681e+08   1.59702671e+06   3.63797881e-12   0.00000000e+00\n",
      "   0.00000000e+00   1.47672393e+07   1.72311160e+09   1.51131076e+09\n",
      "   1.01499037e+09  -9.69099216e+07   5.73200001e+07   2.42892630e+05\n",
      "   0.00000000e+00   0.00000000e+00   3.99170267e+05   9.02747166e+07\n",
      "   7.45030565e+07   1.18170119e+09   3.77970220e+08   7.80852655e+07\n",
      "   2.29232341e+06   0.00000000e+00   0.00000000e+00   0.00000000e+00\n",
      "   1.02063473e+09   1.64914631e+09   1.57357623e+09   1.39604541e+09\n",
      "   1.01434634e+08   1.04903651e+06   0.00000000e+00   0.00000000e+00\n",
      "   0.00000000e+00   5.39593449e+08   1.16165683e+09   1.24785831e+09\n",
      "   1.25383537e+09   1.72276517e+07  -3.00133252e-11   0.00000000e+00\n",
      "   0.00000000e+00   0.00000000e+00   0.00000000e+00   5.77390743e+08\n",
      "   1.10311421e+09   2.10144514e+08   3.63797881e-12   0.00000000e+00\n",
      "   0.00000000e+00   0.00000000e+00]\n",
      "variance =  [  1.73373903e+15   5.22649240e+16   2.90772071e+17   3.54769368e+17\n",
      "   1.45740263e+17   4.62501486e+13   4.27239439e+10   1.00000000e-03\n",
      "   1.00000000e-03   3.33539329e+15   5.69200811e+17   1.69128301e+17\n",
      "   6.89846052e+17   5.01890575e+17   4.26084123e+15   9.09907568e+13\n",
      "   1.00000000e-03   1.00000000e-03   2.99370437e+12   3.40781431e+17\n",
      "   1.07061940e+18   6.61434366e+17   8.16145619e+17   1.19389124e+16\n",
      "   4.02686017e+14   1.00000000e-03   1.00000000e-03   1.00000000e-03\n",
      "   4.33859414e+17   7.66015030e+17   3.58045595e+17   1.13495946e+18\n",
      "   2.91596606e+16   7.88127678e+13   1.00000000e-03   1.00000000e-03\n",
      "   1.00000000e-03   1.78434002e+17   5.40421497e+17   7.14242766e+17\n",
      "   7.22977655e+17   4.19710293e+15   9.93341565e+10   1.00000000e-03\n",
      "   1.00000000e-03   1.00000000e-03   1.00000000e-03   4.36718236e+17\n",
      "   7.17122301e+17   7.42679753e+17   1.22792480e+11   1.00000000e-03\n",
      "   1.00000000e-03   1.00000000e-03]\n",
      "\n",
      "hidden state #2\n",
      "mean =  [  5.35510480e-09   1.03259456e+08   9.22574192e+08   1.16522491e+08\n",
      "   1.84917952e+08   1.78966070e+06  -2.67576279e+04   0.00000000e+00\n",
      "   0.00000000e+00  -8.84756446e-09   8.61438745e+08   1.69352870e+09\n",
      "   7.83559655e+08   3.02260384e+08   1.53652972e+07  -8.68321595e+04\n",
      "   0.00000000e+00   0.00000000e+00  -1.45519152e-10   2.10902588e+08\n",
      "   1.67062503e+09   1.14565969e+09   2.84178031e+07   6.58351163e+07\n",
      "   6.45837309e+04   0.00000000e+00   0.00000000e+00   0.00000000e+00\n",
      "   1.00788933e+08   1.27891989e+09   9.78838356e+08  -7.89275322e+07\n",
      "   4.18418640e+07   2.79396772e-09   0.00000000e+00   0.00000000e+00\n",
      "   0.00000000e+00   9.70673441e+08   1.23637384e+09  -1.29478249e+08\n",
      "   2.80919245e+08   6.80713512e+06  -7.27595761e-12   0.00000000e+00\n",
      "   0.00000000e+00   0.00000000e+00   0.00000000e+00   1.51529311e+09\n",
      "  -1.66281524e+08   1.04171202e+09   3.63797881e-12   0.00000000e+00\n",
      "   0.00000000e+00   0.00000000e+00]\n",
      "variance =  [  1.73373903e+15   5.22649240e+16   2.90772071e+17   3.54769368e+17\n",
      "   1.45740263e+17   4.62501486e+13   4.27239439e+10   1.00000000e-03\n",
      "   1.00000000e-03   3.33539329e+15   5.69200811e+17   1.69128301e+17\n",
      "   6.89846052e+17   5.01890575e+17   4.26084123e+15   9.09907568e+13\n",
      "   1.00000000e-03   1.00000000e-03   2.99370437e+12   3.40781431e+17\n",
      "   1.07061940e+18   6.61434366e+17   8.16145619e+17   1.19389124e+16\n",
      "   4.02686017e+14   1.00000000e-03   1.00000000e-03   1.00000000e-03\n",
      "   4.33859414e+17   7.66015030e+17   3.58045595e+17   1.13495946e+18\n",
      "   2.91596606e+16   7.88127678e+13   1.00000000e-03   1.00000000e-03\n",
      "   1.00000000e-03   1.78434002e+17   5.40421497e+17   7.14242766e+17\n",
      "   7.22977655e+17   4.19710293e+15   9.93341565e+10   1.00000000e-03\n",
      "   1.00000000e-03   1.00000000e-03   1.00000000e-03   4.36718236e+17\n",
      "   7.17122301e+17   7.42679753e+17   1.22792480e+11   1.00000000e-03\n",
      "   1.00000000e-03   1.00000000e-03]\n",
      "\n"
     ]
    }
   ],
   "source": [
    "def show_depth_model_stats(word, model):\n",
    "    print(\"Number of states trained in model for {} is {}\".format(word, depth_model.n_components))    \n",
    "    variance=np.array([np.diag(depth_model.covars_[i]) for i in range(depth_model.n_components)])    \n",
    "    for i in range(depth_model.n_components):  # for each hidden state\n",
    "        print(\"hidden state #{}\".format(i))\n",
    "        print(\"mean = \", depth_model.means_[i])\n",
    "        print(\"variance = \", variance[i])\n",
    "        print()\n",
    "    \n",
    "show_depth_model_stats('a1', depth_model)"
   ]
  },
  {
   "cell_type": "code",
   "execution_count": 31,
   "metadata": {},
   "outputs": [
    {
     "name": "stdout",
     "output_type": "stream",
     "text": [
      "26\n",
      "(240, 320, 48)\n",
      "(1566, 54)\n",
      "[48, 52, 53, 61, 58, 60, 56, 55, 56, 52, 50, 58, 55, 56, 56, 63, 69, 63, 72, 68, 71, 71, 70, 72, 59, 62]\n",
      "26\n",
      "(240, 320, 61)\n",
      "(1567, 54)\n",
      "[61, 54, 54, 55, 60, 52, 58, 62, 59, 56, 60, 57, 50, 52, 58, 63, 55, 68, 71, 70, 70, 75, 74, 69, 51, 53]\n",
      "26\n",
      "(240, 320, 72)\n",
      "(1746, 54)\n",
      "[72, 72, 69, 64, 67, 63, 68, 70, 67, 66, 57, 63, 61, 62, 66, 57, 61, 79, 72, 74, 80, 75, 81, 70, 50, 60]\n"
     ]
    }
   ],
   "source": [
    "all_sequences={}\n",
    "all_lengths={}\n",
    "actions= ['a1','a2','a3']\n",
    "\n",
    "for action in actions:\n",
    "    X,lengths = get_hmm_formatted_features_depth(training_data_depth,action)\n",
    "    all_sequences[action] = X\n",
    "    all_lengths[action]=lengths"
   ]
  },
  {
   "cell_type": "code",
   "execution_count": 32,
   "metadata": {
    "collapsed": true
   },
   "outputs": [],
   "source": [
    "import time\n",
    "import timeit\n",
    "# autoreload for automatically reloading changes made in model_selectors\n",
    "%load_ext autoreload\n",
    "%autoreload 2"
   ]
  },
  {
   "cell_type": "code",
   "execution_count": 36,
   "metadata": {
    "collapsed": true
   },
   "outputs": [],
   "source": [
    "def train_all_actions(actions):\n",
    "    models={}\n",
    "    for action in actions:\n",
    "        print(\"training for \",action)\n",
    "        X = all_sequences[action]\n",
    "        print(X.shape)\n",
    "        lengths = all_lengths[action]\n",
    "        model, logL = train_an_action_depth(action, 20, X ,lengths)\n",
    "        models[action]=model\n",
    "        #time.sleep(2)\n",
    "    return models"
   ]
  },
  {
   "cell_type": "code",
   "execution_count": 37,
   "metadata": {},
   "outputs": [
    {
     "name": "stdout",
     "output_type": "stream",
     "text": [
      "training for  a1\n",
      "(1566, 54)\n",
      "training for  a2\n",
      "(1567, 54)\n",
      "training for  a3\n",
      "(1746, 54)\n"
     ]
    }
   ],
   "source": [
    "models = train_all_actions(actions)"
   ]
  },
  {
   "cell_type": "code",
   "execution_count": 38,
   "metadata": {
    "collapsed": true
   },
   "outputs": [],
   "source": [
    "# testing on known actions\n",
    "def recognize_actions(features):\n",
    "    probabilities = []\n",
    "    guesses = []\n",
    "\n",
    "\n",
    "    print('Started recognizing ...')\n",
    "    \n",
    "    bestLL = float(\"-inf\")\n",
    "    bestAction = None\n",
    "    probs = {}\n",
    "    for action, model in models.items():\n",
    "        try:\n",
    "            ll = model.score(features)\n",
    "            if ll > bestLL:\n",
    "                    bestLL = ll\n",
    "                    bestAction = action\n",
    "                    probs[action] = ll\n",
    "        except:\n",
    "            print(\" ! \",end=\" \")\n",
    "            pass\n",
    "    \n",
    "    guesses.append(bestAction)\n",
    "    probabilities.append(probs)\n",
    "    return guesses,probabilities"
   ]
  },
  {
   "cell_type": "code",
   "execution_count": 40,
   "metadata": {},
   "outputs": [
    {
     "name": "stdout",
     "output_type": "stream",
     "text": [
      "6\n",
      "(240, 320, 56)\n",
      "(386, 54)\n",
      "[56, 55, 76, 66, 69, 64]\n",
      "18\n",
      "-1313.1749912\n",
      "4\n",
      "-1418.55387053\n",
      "2\n",
      "-1142.77729686\n",
      "[9 9]\n",
      "[2 2]\n",
      "[1 1]\n"
     ]
    }
   ],
   "source": [
    "test_AsX,test_A3sL = get_hmm_formatted_features_depth(testing_data_depth,'a1')\n",
    "pr1 =models['a1'].score([test_AsX[0],test_AsX[1]])\n",
    "pr2 =models['a2'].predict([test_AsX[0],test_AsX[1]])\n",
    "pr3 =models['a3'].predict([test_AsX[0],test_AsX[1]])\n",
    "print(sum(models['a1'].predict([test_AsX[0],test_AsX[1]])))\n",
    "print(pr1)\n",
    "print(sum(pr2))\n",
    "print(models['a2'].score([test_AsX[0],test_AsX[1]]))\n",
    "print(sum(pr3))\n",
    "print(models['a3'].score([test_AsX[0],test_AsX[1]]))\n",
    "print(models['a1'].predict([test_AsX[0],test_AsX[1]]))\n",
    "print(models['a2'].predict([test_AsX[0],test_AsX[1]]))\n",
    "print(models['a3'].predict([test_AsX[0],test_AsX[1]]))"
   ]
  },
  {
   "cell_type": "code",
   "execution_count": 42,
   "metadata": {},
   "outputs": [
    {
     "name": "stdout",
     "output_type": "stream",
     "text": [
      "6\n",
      "(240, 320, 56)\n",
      "(386, 54)\n",
      "[56, 55, 76, 66, 69, 64]\n",
      "Started recognizing ...\n"
     ]
    },
    {
     "data": {
      "text/plain": [
       "(['a3'], [{'a1': -1313.1749912045823, 'a3': -1142.7772968573461}])"
      ]
     },
     "execution_count": 42,
     "metadata": {},
     "output_type": "execute_result"
    }
   ],
   "source": [
    "sample_feature = get_hmm_formatted_features_depth(testing_data_depth,'a1')\n",
    "test_AsX,test_A3sL = sample_feature\n",
    "recognize_actions([test_AsX[0],test_AsX[1]])"
   ]
  },
  {
   "cell_type": "code",
   "execution_count": 43,
   "metadata": {
    "collapsed": true
   },
   "outputs": [],
   "source": [
    "def plot_confusion_matrix(cm, classes,\n",
    "                          normalize=False,\n",
    "                          title='Confusion matrix',\n",
    "                          cmap=plt.cm.Blues):\n",
    "    \"\"\"\n",
    "    This function prints and plots the confusion matrix.\n",
    "    Normalization can be applied by setting `normalize=True`.\n",
    "    \"\"\"\n",
    "    if normalize:\n",
    "        cm = cm.astype('float') / cm.sum(axis=1)[:, np.newaxis]\n",
    "        print(\"Normalized confusion matrix\")\n",
    "    else:\n",
    "        print('Confusion matrix, without normalization')\n",
    "\n",
    "    print(cm)\n",
    "\n",
    "    plt.imshow(cm, interpolation='nearest', cmap=cmap)\n",
    "    plt.title(title)\n",
    "    plt.colorbar()\n",
    "    tick_marks = np.arange(len(classes))\n",
    "    plt.xticks(tick_marks, classes, rotation=45)\n",
    "    plt.yticks(tick_marks, classes)\n",
    "\n",
    "    fmt = '.2f' if normalize else 'd'\n",
    "    thresh = cm.max() / 2.\n",
    "    for i, j in itertools.product(range(cm.shape[0]), range(cm.shape[1])):\n",
    "        plt.text(j, i, format(cm[i, j], fmt),\n",
    "                 horizontalalignment=\"center\",\n",
    "                 color=\"white\" if cm[i, j] > thresh else \"black\")\n",
    "\n",
    "    plt.tight_layout()\n",
    "    plt.ylabel('True label')\n",
    "    plt.xlabel('Predicted label')"
   ]
  },
  {
   "cell_type": "code",
   "execution_count": 45,
   "metadata": {},
   "outputs": [
    {
     "name": "stdout",
     "output_type": "stream",
     "text": [
      "1\n",
      "(240, 320, 56)\n",
      "(56, 54)\n",
      "[56]\n",
      "Started recognizing ...\n",
      "1\n",
      "(240, 320, 55)\n",
      "(55, 54)\n",
      "[55]\n",
      "Started recognizing ...\n",
      "1\n",
      "(240, 320, 76)\n",
      "(76, 54)\n",
      "[76]\n",
      "Started recognizing ...\n",
      "1\n",
      "(240, 320, 66)\n",
      "(66, 54)\n",
      "[66]\n",
      "Started recognizing ...\n",
      "1\n",
      "(240, 320, 69)\n",
      "(69, 54)\n",
      "[69]\n",
      "Started recognizing ...\n",
      "1\n",
      "(240, 320, 64)\n",
      "(64, 54)\n",
      "[64]\n",
      "Started recognizing ...\n",
      "1\n",
      "(240, 320, 55)\n",
      "(55, 54)\n",
      "[55]\n",
      "Started recognizing ...\n",
      "1\n",
      "(240, 320, 47)\n",
      "(47, 54)\n",
      "[47]\n",
      "Started recognizing ...\n",
      "1\n",
      "(240, 320, 67)\n",
      "(67, 54)\n",
      "[67]\n",
      "Started recognizing ...\n",
      "1\n",
      "(240, 320, 58)\n",
      "(58, 54)\n",
      "[58]\n",
      "Started recognizing ...\n",
      "1\n",
      "(240, 320, 58)\n",
      "(58, 54)\n",
      "[58]\n",
      "Started recognizing ...\n",
      "1\n",
      "(240, 320, 56)\n",
      "(56, 54)\n",
      "[56]\n",
      "Started recognizing ...\n",
      "1\n",
      "(240, 320, 49)\n",
      "(49, 54)\n",
      "[49]\n",
      "Started recognizing ...\n",
      "1\n",
      "(240, 320, 64)\n",
      "(64, 54)\n",
      "[64]\n",
      "Started recognizing ...\n",
      "1\n",
      "(240, 320, 60)\n",
      "(60, 54)\n",
      "[60]\n",
      "Started recognizing ...\n",
      "1\n",
      "(240, 320, 58)\n",
      "(58, 54)\n",
      "[58]\n",
      "Started recognizing ...\n",
      "1\n",
      "(240, 320, 55)\n",
      "(55, 54)\n",
      "[55]\n",
      "Started recognizing ...\n",
      "1\n",
      "(240, 320, 63)\n",
      "(63, 54)\n",
      "[63]\n",
      "Started recognizing ...\n"
     ]
    }
   ],
   "source": [
    "test_actions=[\"a1\",\"a2\",\"a3\"]\n",
    "predicted_depth=[]\n",
    "actual_depth=[]\n",
    "\n",
    "for Xs,ys in [(Xs,ys) for Xs,ys in testing_data_depth if ys in test_actions]:\n",
    "    X,L = get_hmm_formatted_features_depth([(Xs,ys)],ys)\n",
    "    predicted_depth.append(recognize_actions(X)[0][0])\n",
    "    actual_depth.append(ys)"
   ]
  },
  {
   "cell_type": "code",
   "execution_count": 47,
   "metadata": {},
   "outputs": [
    {
     "name": "stdout",
     "output_type": "stream",
     "text": [
      "0.277777777778\n",
      "             precision    recall  f1-score   support\n",
      "\n",
      "         a1       0.00      0.00      0.00         6\n",
      "         a2       0.00      0.00      0.00         6\n",
      "         a3       0.29      0.83      0.43         6\n",
      "\n",
      "avg / total       0.10      0.28      0.14        18\n",
      "\n",
      "Confusion matrix, without normalization\n",
      "[[0 0 6]\n",
      " [0 0 6]\n",
      " [1 0 5]]\n"
     ]
    },
    {
     "name": "stderr",
     "output_type": "stream",
     "text": [
      "C:\\Users\\Anand Rajan\\Anaconda3\\lib\\site-packages\\sklearn\\metrics\\classification.py:1113: UndefinedMetricWarning: Precision and F-score are ill-defined and being set to 0.0 in labels with no predicted samples.\n",
      "  'precision', 'predicted', average, warn_for)\n"
     ]
    },
    {
     "data": {
      "image/png": "[encoded data removed]",
      "text/plain": [
       "<matplotlib.figure.Figure at 0x21d0446a780>"
      ]
     },
     "metadata": {},
     "output_type": "display_data"
    }
   ],
   "source": [
    "import itertools\n",
    "from sklearn.metrics import accuracy_score\n",
    "from sklearn.metrics import classification_report\n",
    "from sklearn.metrics import confusion_matrix\n",
    "\n",
    "print(accuracy_score(actual_depth, predicted_depth))\n",
    "print(classification_report(actual_depth, predicted_depth, target_names=test_actions))\n",
    "cnf_matrix_depth = confusion_matrix(actual_depth, predicted_depth)\n",
    "np.set_printoptions(precision=2)\n",
    "plt.figure()\n",
    "plot_confusion_matrix(cnf_matrix_depth, classes=test_actions,\n",
    "                      title='Confusion matrix')"
   ]
  },
  {
   "cell_type": "code",
   "execution_count": null,
   "metadata": {
    "collapsed": true
   },
   "outputs": [],
   "source": []
  }
 ],
 "metadata": {
  "kernelspec": {
   "display_name": "Python 3",
   "language": "python",
   "name": "python3"
  },
  "language_info": {
   "codemirror_mode": {
    "name": "ipython",
    "version": 3
   },
   "file_extension": ".py",
   "mimetype": "text/x-python",
   "name": "python",
   "nbconvert_exporter": "python",
   "pygments_lexer": "ipython3",
   "version": "3.6.1"
  }
 },
 "nbformat": 4,
 "nbformat_minor": 2
}
