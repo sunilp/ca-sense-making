{
 "cells": [
  {
   "cell_type": "code",
   "execution_count": 168,
   "metadata": {
    "collapsed": true
   },
   "outputs": [],
   "source": [
    "import numpy as np\n",
    "from dnn_utils import *\n",
    "import matplotlib.pyplot as plt\n"
   ]
  },
  {
   "cell_type": "code",
   "execution_count": 2,
   "metadata": {
    "collapsed": true
   },
   "outputs": [],
   "source": [
    "\n",
    "### CONSTANTS DEFINING THE MODEL ####\n",
    "n_x = 12288     # num_px * num_px * 3\n",
    "n_h = 7\n",
    "n_y = 1\n",
    "layers_dims = (n_x, n_h, n_y)\n",
    "\n"
   ]
  },
  {
   "cell_type": "code",
   "execution_count": 3,
   "metadata": {
    "collapsed": true
   },
   "outputs": [],
   "source": [
    "\n",
    "def two_layer_model(X, Y, layers_dims, learning_rate = 0.0075, num_iterations = 3000, print_cost=False):\n",
    "    \"\"\"\n",
    "    Implements a two-layer neural network: LINEAR->RELU->LINEAR->SIGMOID.\n",
    "    \n",
    "    Arguments:\n",
    "    X -- input data, of shape (n_x, number of examples)\n",
    "    Y -- true \"label\" vector (containing 0 if cat, 1 if non-cat), of shape (1, number of examples)\n",
    "    layers_dims -- dimensions of the layers (n_x, n_h, n_y)\n",
    "    num_iterations -- number of iterations of the optimization loop\n",
    "    learning_rate -- learning rate of the gradient descent update rule\n",
    "    print_cost -- If set to True, this will print the cost every 100 iterations \n",
    "    \n",
    "    Returns:\n",
    "    parameters -- a dictionary containing W1, W2, b1, and b2\n",
    "    \"\"\"\n",
    "    \n",
    "    np.random.seed(1)\n",
    "    grads = {}\n",
    "    costs = []                              # to keep track of the cost\n",
    "    m = X.shape[1]                           # number of examples\n",
    "    (n_x, n_h, n_y) = layers_dims\n",
    "    \n",
    "    # Initialize parameters dictionary, by calling one of the functions you'd previously implemented\n",
    "    ### START CODE HERE ### (≈ 1 line of code)\n",
    "    parameters = initialize_parameters(n_x, n_h, n_y)\n",
    "    ### END CODE HERE ###\n",
    "    \n",
    "    # Get W1, b1, W2 and b2 from the dictionary parameters.\n",
    "    W1 = parameters[\"W1\"]\n",
    "    b1 = parameters[\"b1\"]\n",
    "    W2 = parameters[\"W2\"]\n",
    "    b2 = parameters[\"b2\"]\n",
    "    \n",
    "    # Loop (gradient descent)\n",
    "\n",
    "    for i in range(0, num_iterations):\n",
    "\n",
    "        # Forward propagation: LINEAR -> RELU -> LINEAR -> SIGMOID. Inputs: \"X, W1, b1\". Output: \"A1, cache1, A2, cache2\".\n",
    "        ### START CODE HERE ### (≈ 2 lines of code)\n",
    "        A1, cache1 = linear_activation_forward(X, W1, b1, \"relu\")\n",
    "        A2, cache2 = linear_activation_forward(A1, W2, b2, \"sigmoid\")\n",
    "        ### END CODE HERE ###\n",
    "        \n",
    "        # Compute cost\n",
    "        ### START CODE HERE ### (≈ 1 line of code)\n",
    "        cost =  compute_cost(A2, Y)\n",
    "        ### END CODE HERE ###\n",
    "        \n",
    "        # Initializing backward propagation\n",
    "        dA2 = - (np.divide(Y, A2) - np.divide(1 - Y, 1 - A2))\n",
    "        \n",
    "        # Backward propagation. Inputs: \"dA2, cache2, cache1\". Outputs: \"dA1, dW2, db2; also dA0 (not used), dW1, db1\".\n",
    "        ### START CODE HERE ### (≈ 2 lines of code)\n",
    "        dA1, dW2, db2 = linear_activation_backward(dA2, cache2, \"sigmoid\")\n",
    "        dA0, dW1, db1 = linear_activation_backward(dA1, cache1, \"relu\")\n",
    "        ### END CODE HERE ###\n",
    "        \n",
    "        # Set grads['dWl'] to dW1, grads['db1'] to db1, grads['dW2'] to dW2, grads['db2'] to db2\n",
    "        grads['dW1'] = dW1\n",
    "        grads['db1'] = db1\n",
    "        grads['dW2'] = dW2\n",
    "        grads['db2'] = db2\n",
    "        \n",
    "        # Update parameters.\n",
    "        ### START CODE HERE ### (approx. 1 line of code)\n",
    "        parameters = update_parameters(parameters, grads, learning_rate)\n",
    "        ### END CODE HERE ###\n",
    "\n",
    "        # Retrieve W1, b1, W2, b2 from parameters\n",
    "        W1 = parameters[\"W1\"]\n",
    "        b1 = parameters[\"b1\"]\n",
    "        W2 = parameters[\"W2\"]\n",
    "        b2 = parameters[\"b2\"]\n",
    "        \n",
    "        # Print the cost every 100 training example\n",
    "        if print_cost and i % 100 == 0:\n",
    "            print(\"Cost after iteration {}: {}\".format(i, np.squeeze(cost)))\n",
    "        if print_cost and i % 100 == 0:\n",
    "            costs.append(cost)\n",
    "       \n",
    "    # plot the cost\n",
    "\n",
    "    plt.plot(np.squeeze(costs))\n",
    "    plt.ylabel('cost')\n",
    "    plt.xlabel('iterations (per tens)')\n",
    "    plt.title(\"Learning rate =\" + str(learning_rate))\n",
    "    plt.show()\n",
    "    \n",
    "    return parameters"
   ]
  },
  {
   "cell_type": "code",
   "execution_count": 4,
   "metadata": {
    "collapsed": true
   },
   "outputs": [],
   "source": [
    "#parameters = two_layer_model(train_x, train_y, layers_dims = (n_x, n_h, n_y), num_iterations = 2500, print_cost=True)\n"
   ]
  },
  {
   "cell_type": "code",
   "execution_count": 185,
   "metadata": {
    "collapsed": true
   },
   "outputs": [],
   "source": [
    "def L_model_forward(X, parameters):\n",
    "    \"\"\"\n",
    "    Implement forward propagation for the [LINEAR->RELU]*(L-1)->LINEAR->SIGMOID computation\n",
    "\n",
    "    Arguments:\n",
    "    X -- data, numpy array of shape (input size, number of examples)\n",
    "    parameters -- output of initialize_parameters_deep()\n",
    "\n",
    "    Returns:\n",
    "    AL -- last post-activation value\n",
    "    caches -- list of caches containing:\n",
    "                every cache of linear_relu_forward() (there are L-1 of them, indexed from 0 to L-2)\n",
    "                the cache of linear_sigmoid_forward() (there is one, indexed L-1)\n",
    "    \"\"\"\n",
    "\n",
    "    caches = []\n",
    "    A = X\n",
    "    L = len(parameters) // 2                  # number of layers in the neural network\n",
    "    \n",
    "    # Implement [LINEAR -> RELU]*(L-1). Add \"cache\" to the \"caches\" list.\n",
    "    for l in range(1, L):\n",
    "        A_prev = A \n",
    "        ### START CODE HERE ### (≈ 2 lines of code)\n",
    "        A, cache = linear_activation_forward(A_prev, \n",
    "                                             parameters['W' + str(l)], \n",
    "                                             parameters['b' + str(l)], \n",
    "                                             activation='relu')\n",
    "        caches.append(cache)\n",
    "        \n",
    "        ### END CODE HERE ###\n",
    "    \n",
    "    # Implement LINEAR -> SIGMOID. Add \"cache\" to the \"caches\" list.\n",
    "    ### START CODE HERE ### (≈ 2 lines of code)\n",
    "    AL, cache = linear_activation_forward(A, \n",
    "                                          parameters['W' + str(L)], \n",
    "                                          parameters['b' + str(L)], \n",
    "                                          activation='sigmoid')\n",
    "    caches.append(cache)\n",
    "    \n",
    "    ### END CODE HERE ###\n",
    "    \n",
    "    #print(AL.shape, (2, X.shape[1]) )\n",
    "    assert(AL.shape == (2, X.shape[1]))\n",
    "            \n",
    "    return AL, caches\n"
   ]
  },
  {
   "cell_type": "code",
   "execution_count": 208,
   "metadata": {
    "collapsed": true
   },
   "outputs": [],
   "source": [
    "#layers_dims = [12288, 20, 7, 5, 1] #  5-layer model"
   ]
  },
  {
   "cell_type": "code",
   "execution_count": 5,
   "metadata": {
    "collapsed": true
   },
   "outputs": [],
   "source": [
    "\n",
    "def L_layer_model(X, Y, layers_dims, learning_rate = 0.0075, num_iterations = 3000, print_cost=False):#lr was 0.009\n",
    "    \"\"\"\n",
    "    Implements a L-layer neural network: [LINEAR->RELU]*(L-1)->LINEAR->SIGMOID.\n",
    "    \n",
    "    Arguments:\n",
    "    X -- data, numpy array of shape (number of examples, num_px * num_px * 3)\n",
    "    Y -- true \"label\" vector (containing 0 if cat, 1 if non-cat), of shape (1, number of examples)\n",
    "    layers_dims -- list containing the input size and each layer size, of length (number of layers + 1).\n",
    "    learning_rate -- learning rate of the gradient descent update rule\n",
    "    num_iterations -- number of iterations of the optimization loop\n",
    "    print_cost -- if True, it prints the cost every 100 steps\n",
    "    \n",
    "    Returns:\n",
    "    parameters -- parameters learnt by the model. They can then be used to predict.\n",
    "    \"\"\"\n",
    "\n",
    "    np.random.seed(1)\n",
    "    costs = []                         # keep track of cost\n",
    "    \n",
    "    # Parameters initialization.\n",
    "    ### START CODE HERE ###\n",
    "    parameters = initialize_parameters_deep(layers_dims)\n",
    "    ### END CODE HERE ###\n",
    "    \n",
    "    # Loop (gradient descent)\n",
    "    for i in range(0, num_iterations):\n",
    "\n",
    "        # Forward propagation: [LINEAR -> RELU]*(L-1) -> LINEAR -> SIGMOID.\n",
    "        ### START CODE HERE ### (≈ 1 line of code)\n",
    "        AL, caches = L_model_forward(X, parameters)\n",
    "        ### END CODE HERE ###\n",
    "        \n",
    "        # Compute cost.\n",
    "        ### START CODE HERE ### (≈ 1 line of code)\n",
    "        cost = compute_cost(AL, Y)\n",
    "        ### END CODE HERE ###\n",
    "    \n",
    "        # Backward propagation.\n",
    "        ### START CODE HERE ### (≈ 1 line of code)\n",
    "        grads = L_model_backward(AL, Y, caches)\n",
    "        ### END CODE HERE ###\n",
    " \n",
    "        # Update parameters.\n",
    "        ### START CODE HERE ### (≈ 1 line of code)\n",
    "        parameters = update_parameters(parameters, grads, learning_rate)\n",
    "        ### END CODE HERE ###\n",
    "                \n",
    "        # Print the cost every 100 training example\n",
    "        if print_cost and i % 100 == 0:\n",
    "            print (\"Cost after iteration %i: %f\" %(i, cost))\n",
    "        if print_cost and i % 100 == 0:\n",
    "            costs.append(cost)\n",
    "            \n",
    "    # plot the cost\n",
    "    plt.plot(np.squeeze(costs))\n",
    "    plt.ylabel('cost')\n",
    "    plt.xlabel('iterations (per tens)')\n",
    "    plt.title(\"Learning rate =\" + str(learning_rate))\n",
    "    plt.show()\n",
    "    \n",
    "    return parameters\n"
   ]
  },
  {
   "cell_type": "code",
   "execution_count": 6,
   "metadata": {
    "collapsed": true
   },
   "outputs": [],
   "source": [
    "#parameters = L_layer_model(train_x, train_y, layers_dims, num_iterations = 2500, print_cost = True)"
   ]
  },
  {
   "cell_type": "code",
   "execution_count": 7,
   "metadata": {
    "collapsed": true
   },
   "outputs": [],
   "source": [
    "#pred_train = predict(train_x, train_y, parameters)"
   ]
  },
  {
   "cell_type": "code",
   "execution_count": 8,
   "metadata": {
    "collapsed": true
   },
   "outputs": [],
   "source": [
    "#pred_test = predict(test_x, test_y, parameters)"
   ]
  },
  {
   "cell_type": "markdown",
   "metadata": {},
   "source": [
    "##  Generate Training Data\n",
    "\n",
    "xe = l1 cos(theta1)  + l2 cos(theta1 + theta2) + l3 cos(theta1 + theta2 + theta3)\n",
    "\n",
    "ye = l1 sin(theta1) + l2 sin(theta1 + theta2) + l3 sin(theta1 + theta2 + theta3)"
   ]
  },
  {
   "cell_type": "code",
   "execution_count": 11,
   "metadata": {
    "collapsed": true
   },
   "outputs": [],
   "source": [
    "def generate_XY_pair(l1,l2,l3, theta1, theta2, theta3):\n",
    "    \"\"\"\n",
    "    Generates a pair of X and Y on provided angles of the robotic arm\n",
    "    \n",
    "    Arguments:\n",
    "    l1 -- length of first arm\n",
    "    l2 -- length of second arm\n",
    "    l3 -- length of third arm\n",
    "    theta1 -- angle from base of first arm\n",
    "    theta2 -- angle from base of second arm\n",
    "    theta3 -- angle from base of third arm\n",
    "\n",
    "    \n",
    "    Returns:\n",
    "    parameters -- parameters learnt by the model. They can then be used to predict.\n",
    "    \"\"\"\n",
    "    xe = l1 * np.cos(theta1) + l2 * np.cos(theta1 + theta2) + l3 * np.cos(theta1 + theta2 + theta3)\n",
    "    ye = l1 * np.sin(theta1) + l2 * np.sin(theta1 + theta2) + l3 * np.sin(theta1 + theta2 + theta3)\n",
    "    return (xe,ye)"
   ]
  },
  {
   "cell_type": "code",
   "execution_count": 84,
   "metadata": {},
   "outputs": [
    {
     "name": "stdout",
     "output_type": "stream",
     "text": [
      "angles are 3.025046976993713 3.4291312495246884 3.10999300732959\n",
      "X and Y are -1.99328507864 0.0397768662649\n"
     ]
    }
   ],
   "source": [
    "\n",
    "#test the generate_XY_pair\n",
    "l1 = 1\n",
    "l2 = 2\n",
    "l3 = 3\n",
    "\n",
    "std_dev = 0.1\n",
    "\n",
    "theta1 = np.pi + np.random.randn() * std_dev\n",
    "theta2 = np.pi + np.random.randn() * std_dev\n",
    "theta3 = np.pi + np.random.randn() * std_dev\n",
    "\n",
    "x,y = generate_XY_pair(l1,l2,l3,theta1,theta2,theta3)\n",
    "print(\"angles are\", theta1, theta2, theta3)\n",
    "print(\"X and Y are\", x,y)"
   ]
  },
  {
   "cell_type": "code",
   "execution_count": 152,
   "metadata": {},
   "outputs": [],
   "source": [
    "#lets generate 10000 records\n",
    "\n",
    "increment = 0.1\n",
    "no_of_records = 10000\n",
    "\n",
    "data=[]\n",
    "\n",
    "theta1=theta2=theta3=-np.pi\n",
    "\n",
    "for i in range(0, 70):\n",
    "    #print(i)\n",
    "    if theta1 < np.pi:\n",
    "        theta1 +=increment\n",
    "        theta2=theta3=-np.pi\n",
    "        for j in range(0, 70):\n",
    "            if theta2 < np.pi:\n",
    "                theta2 +=increment\n",
    "                theta3=-np.pi\n",
    "                for k in range(0,70):\n",
    "                    if theta3 < np.pi:\n",
    "                        theta3 +=increment\n",
    "                        data.append([theta1,theta2,theta3])\n",
    "\n",
    "#theta1 = np.pi + np.random.randn(no_of_records) * std_dev\n",
    "#theta2 = np.pi + np.random.randn(no_of_records) * std_dev\n",
    "#theta3 = np.pi + np.random.randn(no_of_records) * std_dev\n",
    "\n",
    "\n",
    "\n",
    "l1 = np.zeros(len(data)) + 1\n",
    "l2 = np.zeros(len(data)) + 2\n",
    "l3 = np.zeros(len(data)) + 3\n",
    "\n",
    "data = np.array(data)"
   ]
  },
  {
   "cell_type": "code",
   "execution_count": 150,
   "metadata": {},
   "outputs": [
    {
     "data": {
      "text/plain": [
       "array([[-3.04159265, -3.04159265, -3.04159265],\n",
       "       [-3.04159265, -3.04159265, -2.94159265],\n",
       "       [-3.04159265, -3.04159265, -2.84159265],\n",
       "       ..., \n",
       "       [ 3.15840735,  3.15840735,  2.95840735],\n",
       "       [ 3.15840735,  3.15840735,  3.05840735],\n",
       "       [ 3.15840735,  3.15840735,  3.15840735]])"
      ]
     },
     "execution_count": 150,
     "metadata": {},
     "output_type": "execute_result"
    }
   ],
   "source": [
    "data"
   ]
  },
  {
   "cell_type": "code",
   "execution_count": 153,
   "metadata": {},
   "outputs": [
    {
     "name": "stdout",
     "output_type": "stream",
     "text": [
      "250047\n"
     ]
    }
   ],
   "source": [
    "print(len(data))\n",
    "\n",
    "x,y = generate_XY_pair(l1,l2,l3,data[:,0],data[:,1],data[:,2])"
   ]
  },
  {
   "cell_type": "code",
   "execution_count": 154,
   "metadata": {},
   "outputs": [
    {
     "data": {
      "text/plain": [
       "array([-0.87074978, -1.14077137, -1.39642218, -1.63514782, -1.85456303,\n",
       "       -2.05247548, -2.22690771, -2.37611684, -2.49861201])"
      ]
     },
     "execution_count": 154,
     "metadata": {},
     "output_type": "execute_result"
    }
   ],
   "source": [
    "x[1:10]\n",
    "y[1:10]"
   ]
  },
  {
   "cell_type": "code",
   "execution_count": 158,
   "metadata": {},
   "outputs": [
    {
     "name": "stdout",
     "output_type": "stream",
     "text": [
      " values are 5.99793154915 5.9977765609 -5.99754847696 -5.99624414369\n",
      "[-0.29982052 -0.27807311 -0.2519398  -0.22168168 -0.18760111 -0.15003859\n",
      " -0.10936944 -0.06600001 -0.02036364]\n"
     ]
    }
   ],
   "source": [
    "#scale the x and y as min-max scaling\n",
    "\n",
    "x_max = np.max(x)\n",
    "x_min = np.min(x)\n",
    "\n",
    "y_max = np.max(y)\n",
    "y_min = np.min(y)\n",
    "print(\" values are\", x_max, y_max, x_min, y_min)\n",
    "\n",
    "#scale it\n",
    "x_norm = 2 * ((x - x_min)/ (x_max-x_min)) - 1\n",
    "y_norm = 2 * ((y - y_min) / (y_max - y_min)) - 1\n",
    "\n",
    "print(x_norm[1:10])"
   ]
  },
  {
   "cell_type": "code",
   "execution_count": 160,
   "metadata": {},
   "outputs": [
    {
     "data": {
      "text/plain": [
       "-1.0"
      ]
     },
     "execution_count": 160,
     "metadata": {},
     "output_type": "execute_result"
    }
   ],
   "source": [
    "np.min(x_norm)"
   ]
  },
  {
   "cell_type": "code",
   "execution_count": 161,
   "metadata": {
    "collapsed": true
   },
   "outputs": [],
   "source": [
    "#train_x = np.column_stack((theta1,theta2,theta3)).T\n",
    "train_x = data.T"
   ]
  },
  {
   "cell_type": "code",
   "execution_count": 162,
   "metadata": {},
   "outputs": [
    {
     "data": {
      "text/plain": [
       "(3, 250047)"
      ]
     },
     "execution_count": 162,
     "metadata": {},
     "output_type": "execute_result"
    }
   ],
   "source": [
    "train_x.shape"
   ]
  },
  {
   "cell_type": "code",
   "execution_count": 181,
   "metadata": {
    "collapsed": true
   },
   "outputs": [],
   "source": [
    "train_y = np.column_stack((x_norm,y_norm)).T"
   ]
  },
  {
   "cell_type": "code",
   "execution_count": 182,
   "metadata": {},
   "outputs": [
    {
     "data": {
      "text/plain": [
       "(2, 250047)"
      ]
     },
     "execution_count": 182,
     "metadata": {},
     "output_type": "execute_result"
    }
   ],
   "source": [
    "train_y.shape"
   ]
  },
  {
   "cell_type": "code",
   "execution_count": 183,
   "metadata": {
    "collapsed": true
   },
   "outputs": [],
   "source": [
    "layers_dims = [3, 10, 20, 10, 2] #  5-layer model"
   ]
  },
  {
   "cell_type": "code",
   "execution_count": 186,
   "metadata": {},
   "outputs": [
    {
     "name": "stdout",
     "output_type": "stream",
     "text": [
      "Cost after iteration 0: 1.386295\n",
      "Cost after iteration 100: 1.072590\n",
      "Cost after iteration 200: 0.854588\n",
      "Cost after iteration 300: 0.699537\n",
      "Cost after iteration 400: 0.586128\n",
      "Cost after iteration 500: 0.500823\n",
      "Cost after iteration 600: 0.434976\n",
      "Cost after iteration 700: 0.382955\n",
      "Cost after iteration 800: 0.341008\n",
      "Cost after iteration 900: 0.306568\n",
      "Cost after iteration 1000: 0.277842\n",
      "Cost after iteration 1100: 0.253542\n",
      "Cost after iteration 1200: 0.232730\n",
      "Cost after iteration 1300: 0.214707\n",
      "Cost after iteration 1400: 0.198943\n",
      "Cost after iteration 1500: 0.185032\n",
      "Cost after iteration 1600: 0.172658\n",
      "Cost after iteration 1700: 0.161570\n",
      "Cost after iteration 1800: 0.151569\n",
      "Cost after iteration 1900: 0.142496\n",
      "Cost after iteration 2000: 0.134221\n",
      "Cost after iteration 2100: 0.126636\n",
      "Cost after iteration 2200: 0.119655\n",
      "Cost after iteration 2300: 0.113204\n",
      "Cost after iteration 2400: 0.107222\n"
     ]
    },
    {
     "data": {
      "image/png": "[encoded data removed]",
      "text/plain": [
       "<matplotlib.figure.Figure at 0x118c1a048>"
      ]
     },
     "metadata": {},
     "output_type": "display_data"
    }
   ],
   "source": [
    "parameters = L_layer_model(train_x, train_y, layers_dims, num_iterations = 2500, print_cost = True)"
   ]
  },
  {
   "cell_type": "code",
   "execution_count": 188,
   "metadata": {},
   "outputs": [
    {
     "data": {
      "text/plain": [
       "{'W1': array([[ 0.0177994 ,  0.00426454,  0.000934  ],\n",
       "        [-0.01896168, -0.00296312, -0.00359468],\n",
       "        [-0.00085928, -0.0063077 , -0.00043228],\n",
       "        [-0.00503953, -0.01329157,  0.00890885],\n",
       "        [ 0.00875989,  0.01705744,  0.00049753],\n",
       "        [-0.00412212, -0.0054819 , -0.01547433],\n",
       "        [ 0.00985497, -0.01099701, -0.01186139],\n",
       "        [-0.00201888,  0.01492457,  0.00237502],\n",
       "        [-0.0102983 , -0.00717661,  0.00623851],\n",
       "        [-0.00162964, -0.00764539, -0.00227443]]),\n",
       " 'W2': array([[  7.45017086e-03,   1.97225393e-02,  -1.24464765e-02,\n",
       "          -6.29140961e-03,  -8.03782535e-03,  -2.41942840e-02,\n",
       "          -9.23798278e-03,  -1.02437895e-02,   1.12073176e-02,\n",
       "          -1.32487834e-03],\n",
       "        [ -1.62328981e-02,   6.48107218e-03,  -3.56268503e-03,\n",
       "          -1.74314196e-02,  -5.96927658e-03,  -5.87463447e-03,\n",
       "          -8.73862591e-03,   2.98777424e-04,  -2.24811641e-02,\n",
       "          -2.67732484e-03],\n",
       "        [  1.01123652e-02,   8.51874484e-03,   1.10803096e-02,\n",
       "           1.11829434e-02,   1.48464797e-02,  -1.11824285e-02,\n",
       "           8.46329357e-03,  -1.86221832e-02,  -6.04148990e-03,\n",
       "          -1.91466387e-02],\n",
       "        [  1.05331383e-02,   1.34428653e-02,  -1.95373201e-03,\n",
       "           1.78033554e-02,  -6.68707169e-03,   1.56187720e-03,\n",
       "           1.55345570e-03,  -1.06054784e-02,   4.44596276e-03,\n",
       "           1.94186454e-02],\n",
       "        [ -1.02484244e-02,   8.99703248e-03,  -1.54446576e-03,\n",
       "           1.76972002e-02,   4.83905272e-03,   6.76404319e-03,\n",
       "           6.43137311e-03,   2.49128136e-03,  -1.39562379e-02,\n",
       "           1.39176189e-02],\n",
       "        [ -1.37070213e-02,   2.37181035e-03,   6.13962360e-03,\n",
       "          -8.37925457e-03,   1.44883560e-03,   1.16599119e-02,\n",
       "          -2.48653034e-04,  -8.89036349e-03,  -2.91578788e-02,\n",
       "          -9.72114464e-03],\n",
       "        [ -5.91637464e-03,  -5.16875965e-03,  -9.61028336e-03,\n",
       "           3.75996309e-03,  -5.74713057e-03,  -1.11519084e-03,\n",
       "           6.75760418e-03,  -8.55437201e-03,  -3.00813318e-03,\n",
       "           2.15676785e-02],\n",
       "        [  8.69402341e-03,  -1.29365876e-02,  -7.98689030e-04,\n",
       "           5.63952747e-03,   1.22844083e-02,   1.48786595e-03,\n",
       "          -5.31684734e-03,  -7.32714282e-03,   6.44769194e-03,\n",
       "           3.12937257e-03],\n",
       "        [ -5.16224516e-03,  -1.89817331e-03,  -4.16661789e-03,\n",
       "           7.24076602e-03,  -6.89965434e-03,   4.84887036e-03,\n",
       "           8.50411270e-03,   4.86181074e-03,  -8.34714290e-03,\n",
       "           1.34429171e-02],\n",
       "        [ -6.78235000e-03,   4.24753160e-03,  -7.53341372e-03,\n",
       "          -1.74411126e-02,   2.25480732e-03,   2.85764902e-03,\n",
       "          -7.75039436e-04,   2.75249530e-03,  -6.48556812e-03,\n",
       "          -7.37500819e-03],\n",
       "        [ -1.60893650e-03,   1.92568409e-02,   8.17718534e-03,\n",
       "          -5.11429010e-03,   5.68169418e-03,  -4.70170602e-03,\n",
       "          -4.54386111e-03,   8.65788224e-03,  -5.14985873e-03,\n",
       "          -1.67153787e-02],\n",
       "        [ -8.97815408e-03,   1.07699149e-03,   1.31668656e-03,\n",
       "           1.25215460e-02,  -7.05549447e-03,   7.41368024e-03,\n",
       "           4.30092530e-03,  -1.42275596e-03,   8.48184964e-03,\n",
       "           4.97257254e-03],\n",
       "        [ -8.62307488e-03,   1.06963019e-02,  -1.22117617e-02,\n",
       "           5.86094470e-04,   2.54024137e-05,   4.23799426e-03,\n",
       "          -7.25571173e-03,  -3.50685711e-04,  -1.41875741e-03,\n",
       "           9.96716943e-03],\n",
       "        [ -7.93303781e-03,   7.56889182e-04,  -2.61088281e-03,\n",
       "          -1.29761798e-02,   2.67883203e-02,  -6.97690319e-04,\n",
       "          -1.48636743e-02,   1.41050179e-02,  -1.06960175e-02,\n",
       "           3.71168315e-03],\n",
       "        [  8.61213327e-03,  -6.48452788e-03,  -4.30907436e-03,\n",
       "          -5.40397383e-03,  -1.30792866e-03,  -1.62246171e-02,\n",
       "          -1.23575697e-02,  -1.41351508e-03,   1.03889439e-02,\n",
       "           6.31730072e-03],\n",
       "        [  1.72894120e-02,   6.91994577e-03,  -5.11343075e-03,\n",
       "          -1.24392253e-03,  -2.03053291e-02,  -9.60861521e-03,\n",
       "          -1.02043990e-02,   2.70057122e-03,   6.46075263e-03,\n",
       "          -5.60554754e-03],\n",
       "        [ -5.86880746e-03,  -1.54674347e-02,  -1.27620111e-03,\n",
       "           2.48201042e-03,   4.47559250e-03,  -7.82379563e-03,\n",
       "           1.98903038e-02,   1.19562324e-02,  -9.52052639e-04,\n",
       "          -5.26936206e-03],\n",
       "        [ -3.21535745e-03,   1.52152553e-03,  -1.84674187e-04,\n",
       "           4.84065903e-03,   7.69290622e-03,   1.36670916e-02,\n",
       "           1.14736225e-02,  -1.09760999e-03,   3.88894929e-03,\n",
       "          -3.86912795e-03],\n",
       "        [ -5.78875393e-03,   1.92768695e-02,  -4.56623276e-03,\n",
       "           1.99991003e-02,  -3.39066819e-03,   2.61593943e-03,\n",
       "           1.09322808e-02,   3.01567332e-04,   4.03861672e-03,\n",
       "          -2.36849218e-03],\n",
       "        [ -4.74998598e-03,  -1.62625477e-03,  -6.49194241e-03,\n",
       "           1.63289479e-02,  -1.67117641e-03,   1.72410160e-02,\n",
       "          -2.68472841e-02,   1.91278197e-04,   5.63746752e-03,\n",
       "          -2.93099494e-03]]),\n",
       " 'W3': array([[ 0.0109465 ,  0.00639692, -0.00274605,  0.00434907,  0.02811828,\n",
       "          0.00251995,  0.00299499, -0.00439994,  0.0013348 , -0.01289262,\n",
       "         -0.00198352,  0.02457481,  0.01067198,  0.00641416,  0.01103921,\n",
       "          0.01881753,  0.00593586,  0.0207083 ,  0.01069671,  0.00166495],\n",
       "        [ 0.01719475, -0.02359215, -0.0057135 ,  0.00265775, -0.00912095,\n",
       "         -0.00156058, -0.00638795, -0.00654416,  0.02711918,  0.00627474,\n",
       "         -0.00053954,  0.01315139, -0.00237334,  0.00885339,  0.00350816,\n",
       "          0.01626573, -0.01419891,  0.00765714,  0.0012223 , -0.01157377],\n",
       "        [ 0.01065403, -0.00872374,  0.01619287,  0.0051359 ,  0.0069585 ,\n",
       "          0.00080459,  0.00904523, -0.01865655,  0.00074738, -0.00628247,\n",
       "          0.00282815, -0.0004704 ,  0.00616827, -0.0083763 ,  0.01839152,\n",
       "          0.0231584 , -0.00208298, -0.00014717,  0.00287883,  0.01264124],\n",
       "        [ 0.01896901, -0.01205803, -0.00615109, -0.01062156, -0.01112782,\n",
       "         -0.01639296,  0.00362803, -0.01159037,  0.01503262,  0.00908318,\n",
       "         -0.01029711, -0.01030209, -0.00612385,  0.01399962, -0.00849607,\n",
       "         -0.0149355 , -0.00049425,  0.00373389, -0.00657258,  0.01619431],\n",
       "        [ 0.00243221,  0.00453336, -0.00850368,  0.00023569, -0.00141475,\n",
       "         -0.02271918,  0.00288258, -0.01793993, -0.00025774, -0.01473489,\n",
       "          0.02093653,  0.00407214,  0.00865802,  0.00936255, -0.01324112,\n",
       "         -0.02281496, -0.00326099,  0.00914895,  0.00181643,  0.00803294],\n",
       "        [ 0.00936632, -0.01492397,  0.00287683,  0.0196648 , -0.00570533,\n",
       "         -0.02029072, -0.00231905, -0.0046467 ,  0.00418381, -0.00892406,\n",
       "          0.0009073 , -0.02217409,  0.00853963,  0.01586872,  0.01297877,\n",
       "         -0.01515216,  0.00319198, -0.02983969,  0.00283195, -0.0006436 ],\n",
       "        [-0.00991979,  0.00344132,  0.00146335,  0.01027806,  0.00147704,\n",
       "          0.00235455, -0.0194431 , -0.01158497, -0.0047198 ,  0.0029738 ,\n",
       "          0.00096036,  0.01612007, -0.00863923, -0.00215271,  0.00255578,\n",
       "         -0.00231068,  0.00501115, -0.00545726,  0.01545126, -0.00295267],\n",
       "        [ 0.01115941, -0.00030315,  0.01491757, -0.01398246,  0.00516517,\n",
       "         -0.00432585,  0.00231373,  0.01192792, -0.01139212, -0.01322033,\n",
       "         -0.00998298,  0.00254013, -0.01886863,  0.00096739, -0.01286251,\n",
       "         -0.01143712, -0.00369038,  0.00380497, -0.00626715, -0.00492205],\n",
       "        [-0.00041844, -0.00272736, -0.02676522, -0.00430104,  0.0008496 ,\n",
       "          0.01097779,  0.0204633 ,  0.00666988,  0.00079088, -0.00964764,\n",
       "          0.00089053,  0.00778894,  0.01264645, -0.00880511,  0.00236406,\n",
       "          0.00815604,  0.01860809,  0.00255585, -0.00541508, -0.006896  ],\n",
       "        [-0.00357444, -0.0065192 ,  0.00826531,  0.01069236,  0.00724828,\n",
       "          0.01192186, -0.0045377 ,  0.00380333, -0.00384672,  0.00043658,\n",
       "          0.01224941, -0.00029809, -0.01864815, -0.0025282 , -0.0071285 ,\n",
       "         -0.01508918, -0.00790368,  0.00960597,  0.01680823, -0.00489025]]),\n",
       " 'W4': array([[ 0.01002512,  0.01178229, -0.01161396, -0.00039364, -0.17622476,\n",
       "          0.00172387, -0.25955221, -0.00352038,  0.01057818,  0.01262193],\n",
       "        [ 0.01831335, -0.00337523,  0.0186898 ,  0.00665904, -0.18912027,\n",
       "          0.0076161 , -0.24678461,  0.00518434, -0.00102527,  0.01208227]]),\n",
       " 'b1': array([[ -2.21771776e-05],\n",
       "        [  1.90935817e-04],\n",
       "        [  2.75749205e-05],\n",
       "        [  1.31922903e-04],\n",
       "        [ -1.76874045e-05],\n",
       "        [  3.42986346e-05],\n",
       "        [  1.61916439e-05],\n",
       "        [  3.96227465e-05],\n",
       "        [  3.54412123e-05],\n",
       "        [ -1.97735226e-05]]),\n",
       " 'b2': array([[ -9.30518436e-04],\n",
       "        [  1.74684818e-04],\n",
       "        [ -5.84412305e-04],\n",
       "        [  3.33433407e-03],\n",
       "        [  2.28244173e-05],\n",
       "        [ -4.84002727e-04],\n",
       "        [ -6.95334880e-04],\n",
       "        [ -1.07428262e-03],\n",
       "        [ -3.84022489e-04],\n",
       "        [ -3.76977735e-04],\n",
       "        [  5.19633474e-03],\n",
       "        [  6.01756852e-03],\n",
       "        [ -4.47073461e-04],\n",
       "        [  9.46385822e-04],\n",
       "        [ -3.50369733e-04],\n",
       "        [ -6.07913143e-04],\n",
       "        [  1.50735201e-04],\n",
       "        [  3.24103760e-04],\n",
       "        [  5.41776546e-03],\n",
       "        [  8.14180517e-04]]),\n",
       " 'b3': array([[ -3.70943648e-04],\n",
       "        [ -1.12231573e-04],\n",
       "        [ -6.26220466e-05],\n",
       "        [ -1.95660107e-05],\n",
       "        [  2.58052385e-01],\n",
       "        [  1.02167246e-06],\n",
       "        [  3.57662113e-01],\n",
       "        [  1.33715054e-04],\n",
       "        [ -4.21432434e-05],\n",
       "        [ -2.48402066e-04]]),\n",
       " 'b4': array([[-2.79895473],\n",
       "        [-2.79616536]])}"
      ]
     },
     "execution_count": 188,
     "metadata": {},
     "output_type": "execute_result"
    }
   ],
   "source": [
    "parameters"
   ]
  },
  {
   "cell_type": "code",
   "execution_count": 193,
   "metadata": {
    "collapsed": true
   },
   "outputs": [],
   "source": [
    "def predict(test_x, parameters):\n",
    "    return L_model_forward(test_x, parameters)"
   ]
  },
  {
   "cell_type": "code",
   "execution_count": 200,
   "metadata": {},
   "outputs": [
    {
     "name": "stdout",
     "output_type": "stream",
     "text": [
      "(3, 1)\n"
     ]
    }
   ],
   "source": [
    "test_x = np.array([[0.,0.,0.]]).T\n",
    "print(test_x.shape)\n",
    "test_y = [6]\n",
    "predicted_y,cache = predict(test_x, parameters)"
   ]
  },
  {
   "cell_type": "code",
   "execution_count": 201,
   "metadata": {},
   "outputs": [
    {
     "data": {
      "text/plain": [
       "array([[ 0.05033797],\n",
       "       [ 0.05053092]])"
      ]
     },
     "execution_count": 201,
     "metadata": {},
     "output_type": "execute_result"
    }
   ],
   "source": [
    "predicted_y"
   ]
  },
  {
   "cell_type": "code",
   "execution_count": 205,
   "metadata": {},
   "outputs": [
    {
     "data": {
      "text/plain": [
       "(array([-5.39372039]), array([-5.3901753]))"
      ]
     },
     "execution_count": 205,
     "metadata": {},
     "output_type": "execute_result"
    }
   ],
   "source": [
    "scaled_yx = predicted_y[0] * (x_max-x_min) + x_min\n",
    "scaled_yy = predicted_y[1] * (y_max-y_min) + y_min\n",
    "(scaled_yx,scaled_yy)"
   ]
  },
  {
   "cell_type": "code",
   "execution_count": 206,
   "metadata": {
    "collapsed": true
   },
   "outputs": [],
   "source": [
    "param2 = np.copy(parameters)"
   ]
  },
  {
   "cell_type": "code",
   "execution_count": 237,
   "metadata": {},
   "outputs": [
    {
     "data": {
      "text/plain": [
       "array({'W1': array([[ 0.0177994 ,  0.00426454,  0.000934  ],\n",
       "       [-0.01896168, -0.00296312, -0.00359468],\n",
       "       [-0.00085928, -0.0063077 , -0.00043228],\n",
       "       [-0.00503953, -0.01329157,  0.00890885],\n",
       "       [ 0.00875989,  0.01705744,  0.00049753],\n",
       "       [-0.00412212, -0.0054819 , -0.01547433],\n",
       "       [ 0.00985497, -0.01099701, -0.01186139],\n",
       "       [-0.00201888,  0.01492457,  0.00237502],\n",
       "       [-0.0102983 , -0.00717661,  0.00623851],\n",
       "       [-0.00162964, -0.00764539, -0.00227443]]), 'b1': array([[ -2.21771776e-05],\n",
       "       [  1.90935817e-04],\n",
       "       [  2.75749205e-05],\n",
       "       [  1.31922903e-04],\n",
       "       [ -1.76874045e-05],\n",
       "       [  3.42986346e-05],\n",
       "       [  1.61916439e-05],\n",
       "       [  3.96227465e-05],\n",
       "       [  3.54412123e-05],\n",
       "       [ -1.97735226e-05]]), 'W2': array([[  7.45017086e-03,   1.97225393e-02,  -1.24464765e-02,\n",
       "         -6.29140961e-03,  -8.03782535e-03,  -2.41942840e-02,\n",
       "         -9.23798278e-03,  -1.02437895e-02,   1.12073176e-02,\n",
       "         -1.32487834e-03],\n",
       "       [ -1.62328981e-02,   6.48107218e-03,  -3.56268503e-03,\n",
       "         -1.74314196e-02,  -5.96927658e-03,  -5.87463447e-03,\n",
       "         -8.73862591e-03,   2.98777424e-04,  -2.24811641e-02,\n",
       "         -2.67732484e-03],\n",
       "       [  1.01123652e-02,   8.51874484e-03,   1.10803096e-02,\n",
       "          1.11829434e-02,   1.48464797e-02,  -1.11824285e-02,\n",
       "          8.46329357e-03,  -1.86221832e-02,  -6.04148990e-03,\n",
       "         -1.91466387e-02],\n",
       "       [  1.05331383e-02,   1.34428653e-02,  -1.95373201e-03,\n",
       "          1.78033554e-02,  -6.68707169e-03,   1.56187720e-03,\n",
       "          1.55345570e-03,  -1.06054784e-02,   4.44596276e-03,\n",
       "          1.94186454e-02],\n",
       "       [ -1.02484244e-02,   8.99703248e-03,  -1.54446576e-03,\n",
       "          1.76972002e-02,   4.83905272e-03,   6.76404319e-03,\n",
       "          6.43137311e-03,   2.49128136e-03,  -1.39562379e-02,\n",
       "          1.39176189e-02],\n",
       "       [ -1.37070213e-02,   2.37181035e-03,   6.13962360e-03,\n",
       "         -8.37925457e-03,   1.44883560e-03,   1.16599119e-02,\n",
       "         -2.48653034e-04,  -8.89036349e-03,  -2.91578788e-02,\n",
       "         -9.72114464e-03],\n",
       "       [ -5.91637464e-03,  -5.16875965e-03,  -9.61028336e-03,\n",
       "          3.75996309e-03,  -5.74713057e-03,  -1.11519084e-03,\n",
       "          6.75760418e-03,  -8.55437201e-03,  -3.00813318e-03,\n",
       "          2.15676785e-02],\n",
       "       [  8.69402341e-03,  -1.29365876e-02,  -7.98689030e-04,\n",
       "          5.63952747e-03,   1.22844083e-02,   1.48786595e-03,\n",
       "         -5.31684734e-03,  -7.32714282e-03,   6.44769194e-03,\n",
       "          3.12937257e-03],\n",
       "       [ -5.16224516e-03,  -1.89817331e-03,  -4.16661789e-03,\n",
       "          7.24076602e-03,  -6.89965434e-03,   4.84887036e-03,\n",
       "          8.50411270e-03,   4.86181074e-03,  -8.34714290e-03,\n",
       "          1.34429171e-02],\n",
       "       [ -6.78235000e-03,   4.24753160e-03,  -7.53341372e-03,\n",
       "         -1.74411126e-02,   2.25480732e-03,   2.85764902e-03,\n",
       "         -7.75039436e-04,   2.75249530e-03,  -6.48556812e-03,\n",
       "         -7.37500819e-03],\n",
       "       [ -1.60893650e-03,   1.92568409e-02,   8.17718534e-03,\n",
       "         -5.11429010e-03,   5.68169418e-03,  -4.70170602e-03,\n",
       "         -4.54386111e-03,   8.65788224e-03,  -5.14985873e-03,\n",
       "         -1.67153787e-02],\n",
       "       [ -8.97815408e-03,   1.07699149e-03,   1.31668656e-03,\n",
       "          1.25215460e-02,  -7.05549447e-03,   7.41368024e-03,\n",
       "          4.30092530e-03,  -1.42275596e-03,   8.48184964e-03,\n",
       "          4.97257254e-03],\n",
       "       [ -8.62307488e-03,   1.06963019e-02,  -1.22117617e-02,\n",
       "          5.86094470e-04,   2.54024137e-05,   4.23799426e-03,\n",
       "         -7.25571173e-03,  -3.50685711e-04,  -1.41875741e-03,\n",
       "          9.96716943e-03],\n",
       "       [ -7.93303781e-03,   7.56889182e-04,  -2.61088281e-03,\n",
       "         -1.29761798e-02,   2.67883203e-02,  -6.97690319e-04,\n",
       "         -1.48636743e-02,   1.41050179e-02,  -1.06960175e-02,\n",
       "          3.71168315e-03],\n",
       "       [  8.61213327e-03,  -6.48452788e-03,  -4.30907436e-03,\n",
       "         -5.40397383e-03,  -1.30792866e-03,  -1.62246171e-02,\n",
       "         -1.23575697e-02,  -1.41351508e-03,   1.03889439e-02,\n",
       "          6.31730072e-03],\n",
       "       [  1.72894120e-02,   6.91994577e-03,  -5.11343075e-03,\n",
       "         -1.24392253e-03,  -2.03053291e-02,  -9.60861521e-03,\n",
       "         -1.02043990e-02,   2.70057122e-03,   6.46075263e-03,\n",
       "         -5.60554754e-03],\n",
       "       [ -5.86880746e-03,  -1.54674347e-02,  -1.27620111e-03,\n",
       "          2.48201042e-03,   4.47559250e-03,  -7.82379563e-03,\n",
       "          1.98903038e-02,   1.19562324e-02,  -9.52052639e-04,\n",
       "         -5.26936206e-03],\n",
       "       [ -3.21535745e-03,   1.52152553e-03,  -1.84674187e-04,\n",
       "          4.84065903e-03,   7.69290622e-03,   1.36670916e-02,\n",
       "          1.14736225e-02,  -1.09760999e-03,   3.88894929e-03,\n",
       "         -3.86912795e-03],\n",
       "       [ -5.78875393e-03,   1.92768695e-02,  -4.56623276e-03,\n",
       "          1.99991003e-02,  -3.39066819e-03,   2.61593943e-03,\n",
       "          1.09322808e-02,   3.01567332e-04,   4.03861672e-03,\n",
       "         -2.36849218e-03],\n",
       "       [ -4.74998598e-03,  -1.62625477e-03,  -6.49194241e-03,\n",
       "          1.63289479e-02,  -1.67117641e-03,   1.72410160e-02,\n",
       "         -2.68472841e-02,   1.91278197e-04,   5.63746752e-03,\n",
       "         -2.93099494e-03]]), 'b2': array([[ -9.30518436e-04],\n",
       "       [  1.74684818e-04],\n",
       "       [ -5.84412305e-04],\n",
       "       [  3.33433407e-03],\n",
       "       [  2.28244173e-05],\n",
       "       [ -4.84002727e-04],\n",
       "       [ -6.95334880e-04],\n",
       "       [ -1.07428262e-03],\n",
       "       [ -3.84022489e-04],\n",
       "       [ -3.76977735e-04],\n",
       "       [  5.19633474e-03],\n",
       "       [  6.01756852e-03],\n",
       "       [ -4.47073461e-04],\n",
       "       [  9.46385822e-04],\n",
       "       [ -3.50369733e-04],\n",
       "       [ -6.07913143e-04],\n",
       "       [  1.50735201e-04],\n",
       "       [  3.24103760e-04],\n",
       "       [  5.41776546e-03],\n",
       "       [  8.14180517e-04]]), 'W3': array([[ 0.0109465 ,  0.00639692, -0.00274605,  0.00434907,  0.02811828,\n",
       "         0.00251995,  0.00299499, -0.00439994,  0.0013348 , -0.01289262,\n",
       "        -0.00198352,  0.02457481,  0.01067198,  0.00641416,  0.01103921,\n",
       "         0.01881753,  0.00593586,  0.0207083 ,  0.01069671,  0.00166495],\n",
       "       [ 0.01719475, -0.02359215, -0.0057135 ,  0.00265775, -0.00912095,\n",
       "        -0.00156058, -0.00638795, -0.00654416,  0.02711918,  0.00627474,\n",
       "        -0.00053954,  0.01315139, -0.00237334,  0.00885339,  0.00350816,\n",
       "         0.01626573, -0.01419891,  0.00765714,  0.0012223 , -0.01157377],\n",
       "       [ 0.01065403, -0.00872374,  0.01619287,  0.0051359 ,  0.0069585 ,\n",
       "         0.00080459,  0.00904523, -0.01865655,  0.00074738, -0.00628247,\n",
       "         0.00282815, -0.0004704 ,  0.00616827, -0.0083763 ,  0.01839152,\n",
       "         0.0231584 , -0.00208298, -0.00014717,  0.00287883,  0.01264124],\n",
       "       [ 0.01896901, -0.01205803, -0.00615109, -0.01062156, -0.01112782,\n",
       "        -0.01639296,  0.00362803, -0.01159037,  0.01503262,  0.00908318,\n",
       "        -0.01029711, -0.01030209, -0.00612385,  0.01399962, -0.00849607,\n",
       "        -0.0149355 , -0.00049425,  0.00373389, -0.00657258,  0.01619431],\n",
       "       [ 0.00243221,  0.00453336, -0.00850368,  0.00023569, -0.00141475,\n",
       "        -0.02271918,  0.00288258, -0.01793993, -0.00025774, -0.01473489,\n",
       "         0.02093653,  0.00407214,  0.00865802,  0.00936255, -0.01324112,\n",
       "        -0.02281496, -0.00326099,  0.00914895,  0.00181643,  0.00803294],\n",
       "       [ 0.00936632, -0.01492397,  0.00287683,  0.0196648 , -0.00570533,\n",
       "        -0.02029072, -0.00231905, -0.0046467 ,  0.00418381, -0.00892406,\n",
       "         0.0009073 , -0.02217409,  0.00853963,  0.01586872,  0.01297877,\n",
       "        -0.01515216,  0.00319198, -0.02983969,  0.00283195, -0.0006436 ],\n",
       "       [-0.00991979,  0.00344132,  0.00146335,  0.01027806,  0.00147704,\n",
       "         0.00235455, -0.0194431 , -0.01158497, -0.0047198 ,  0.0029738 ,\n",
       "         0.00096036,  0.01612007, -0.00863923, -0.00215271,  0.00255578,\n",
       "        -0.00231068,  0.00501115, -0.00545726,  0.01545126, -0.00295267],\n",
       "       [ 0.01115941, -0.00030315,  0.01491757, -0.01398246,  0.00516517,\n",
       "        -0.00432585,  0.00231373,  0.01192792, -0.01139212, -0.01322033,\n",
       "        -0.00998298,  0.00254013, -0.01886863,  0.00096739, -0.01286251,\n",
       "        -0.01143712, -0.00369038,  0.00380497, -0.00626715, -0.00492205],\n",
       "       [-0.00041844, -0.00272736, -0.02676522, -0.00430104,  0.0008496 ,\n",
       "         0.01097779,  0.0204633 ,  0.00666988,  0.00079088, -0.00964764,\n",
       "         0.00089053,  0.00778894,  0.01264645, -0.00880511,  0.00236406,\n",
       "         0.00815604,  0.01860809,  0.00255585, -0.00541508, -0.006896  ],\n",
       "       [-0.00357444, -0.0065192 ,  0.00826531,  0.01069236,  0.00724828,\n",
       "         0.01192186, -0.0045377 ,  0.00380333, -0.00384672,  0.00043658,\n",
       "         0.01224941, -0.00029809, -0.01864815, -0.0025282 , -0.0071285 ,\n",
       "        -0.01508918, -0.00790368,  0.00960597,  0.01680823, -0.00489025]]), 'b3': array([[ -3.70943648e-04],\n",
       "       [ -1.12231573e-04],\n",
       "       [ -6.26220466e-05],\n",
       "       [ -1.95660107e-05],\n",
       "       [  2.58052385e-01],\n",
       "       [  1.02167246e-06],\n",
       "       [  3.57662113e-01],\n",
       "       [  1.33715054e-04],\n",
       "       [ -4.21432434e-05],\n",
       "       [ -2.48402066e-04]]), 'W4': array([[ 0.01002512,  0.01178229, -0.01161396, -0.00039364, -0.17622476,\n",
       "         0.00172387, -0.25955221, -0.00352038,  0.01057818,  0.01262193],\n",
       "       [ 0.01831335, -0.00337523,  0.0186898 ,  0.00665904, -0.18912027,\n",
       "         0.0076161 , -0.24678461,  0.00518434, -0.00102527,  0.01208227]]), 'b4': array([[-2.79895473],\n",
       "       [-2.79616536]])}, dtype=object)"
      ]
     },
     "execution_count": 237,
     "metadata": {},
     "output_type": "execute_result"
    }
   ],
   "source": [
    "param2"
   ]
  },
  {
   "cell_type": "code",
   "execution_count": 318,
   "metadata": {
    "collapsed": true
   },
   "outputs": [],
   "source": [
    "\n",
    "def L_layer_model_reversed(X, Y, params,layers_dims, learning_rate = 0.01, num_iterations = 3000, print_cost=False):#lr was 0.009\n",
    "    \"\"\"\n",
    "    Implements a L-layer neural network: [LINEAR->RELU]*(L-1)->LINEAR->SIGMOID.\n",
    "\n",
    "    \"\"\"\n",
    "\n",
    "    np.random.seed(1)\n",
    "    costs = []                         # keep track of cost\n",
    "    \n",
    "    # Parameters initialization.\n",
    "    ### START CODE HERE ###\n",
    "    params = initialize_parameters_deep_rev(layers_dims,params)\n",
    "    ### END CODE HERE ###\n",
    "    #parameters = params\n",
    "    \n",
    "    # Loop (gradient descent)\n",
    "    for i in range(0, 4):\n",
    "\n",
    "        # Forward propagation: [LINEAR -> RELU]*(L-1) -> LINEAR -> SIGMOID.\n",
    "        ### START CODE HERE ### (≈ 1 line of code)\n",
    "        #print(\"current params\", params)\n",
    "        AL, caches = L_model_forward_inverse(X, params)\n",
    "        ### END CODE HERE ###\n",
    "        print(\"AL\", AL,Y)\n",
    "        \n",
    "        # Compute cost.\n",
    "        \n",
    "        cost = compute_cost(AL, Y)\n",
    "        print(\"cost\", cost)\n",
    "    \n",
    "        # Backward propagation.\n",
    "        ### START CODE HERE ### (≈ 1 line of code)\n",
    "        grads = L_model_backward(AL, Y, caches)\n",
    "        ### END CODE HERE ###\n",
    "        for key in list(grads):\n",
    "            if key.startswith(\"dW\") or key.startswith(\"db\"):\n",
    "                #print(\"grads are\", key)\n",
    "                grads.pop(key,None)\n",
    "    \n",
    "        # Update parameters.\n",
    "        ### START CODE HERE ### (≈ 1 line of code)\n",
    "        params = update_parameters_reversed(params, grads, learning_rate)\n",
    "        ### END CODE HERE ###\n",
    "        \n",
    "        #print(\"grads\", grads)\n",
    "                \n",
    "        # Print the cost every 100 training example\n",
    "        if print_cost and i % 100 == 0:\n",
    "            print (\"Cost after iteration %i: %f\" %(i, cost))\n",
    "        if print_cost and i % 100 == 0:\n",
    "            costs.append(cost)\n",
    "            \n",
    "  \n",
    "    \n",
    "    return params\n",
    "\n"
   ]
  },
  {
   "cell_type": "code",
   "execution_count": 330,
   "metadata": {},
   "outputs": [],
   "source": [
    "def update_parameters_reversed(parameters, grads, learning_rate):\n",
    "    \"\"\"\n",
    "    Update parameters using gradient descent\n",
    "\n",
    "    Arguments:\n",
    "    parameters -- python dictionary containing your parameters\n",
    "    grads -- python dictionary containing your gradients, output of L_model_backward\n",
    "\n",
    "    Returns:\n",
    "    parameters -- python dictionary containing your updated parameters\n",
    "                  parameters[\"W\" + str(l)] = ...\n",
    "                  parameters[\"b\" + str(l)] = ...\n",
    "    \"\"\"\n",
    "\n",
    "    L = len(parameters) // 2  # number of layers in the neural network\n",
    "    #print(\"L is \", L, parameters)\n",
    "    #print(\"grads is \", L, grads)\n",
    "    # Update rule for each parameter. Use a for loop.\n",
    "    ### START CODE HERE ### (˜ 3 lines of code)\n",
    "    for l in range(L-2):\n",
    "        #print(l,parameters[\"A\" + str(l )].shape,grads[\"dA\" + str(l + 1)])\n",
    "        parameters[\"A\" + str(l )] = parameters[\"A\" + str(l )] - learning_rate * grads[\"dA\" + str(l + 1)]\n",
    "       # parameters[\"b\" + str(l + 1)] = parameters[\"b\" + str(l + 1)] - learning_rate * grads[\"db\" + str(l + 1)]\n",
    "    ### END CODE HERE ###\n",
    "    print(\"L is \", L, parameters)\n",
    "    parameters[\"A\" + str(l )] = parameters[\"A\" + str(l )] - learning_rate * grads[\"dA\" + str(l + 1)]\n",
    "    \n",
    "    return parameters\n"
   ]
  },
  {
   "cell_type": "code",
   "execution_count": 275,
   "metadata": {
    "collapsed": true
   },
   "outputs": [],
   "source": [
    "def initialize_parameters_deep_rev(layer_dims,parameters):\n",
    "    \"\"\"\n",
    "    Arguments:\n",
    "    layer_dims -- python array (list) containing the dimensions of each layer in our network\n",
    "\n",
    "    Returns:\n",
    "    parameters -- python dictionary containing your parameters \"W1\", \"b1\", ..., \"WL\", \"bL\":\n",
    "                    Wl -- weight matrix of shape (layer_dims[l], layer_dims[l-1])\n",
    "                    bl -- bias vector of shape (layer_dims[l], 1)\n",
    "    \"\"\"\n",
    "\n",
    "    np.random.seed(3)\n",
    "    #parameters = {}\n",
    "    L = len(layer_dims)  # number of layers in the network\n",
    "\n",
    "    for l in range(0, L):\n",
    "        ### START CODE HERE ### (≈ 2 lines of code)\n",
    "        #parameters['W' + str(l)] = np.random.randn(layer_dims[l], layer_dims[l - 1]) * 0.01\n",
    "        parameters['A' + str(l)] = np.zeros((layer_dims[l], 1))\n",
    "        ### END CODE HERE ###\n",
    "\n",
    "        #assert (parameters['W' + str(l)].shape == (layer_dims[l], layer_dims[l - 1]))\n",
    "        #assert (parameters['b' + str(l)].shape == (layer_dims[l], 1))\n",
    "    \n",
    "    \n",
    "    return parameters"
   ]
  },
  {
   "cell_type": "code",
   "execution_count": 300,
   "metadata": {
    "collapsed": true
   },
   "outputs": [],
   "source": [
    "def L_model_forward_inverse(X, parameters):\n",
    "    \"\"\"\n",
    "    Implement forward propagation for the [LINEAR->RELU]*(L-1)->LINEAR->SIGMOID computation\n",
    "\n",
    "    Arguments:\n",
    "    X -- data, numpy array of shape (input size, number of examples)\n",
    "    parameters -- output of initialize_parameters_deep()\n",
    "\n",
    "    Returns:\n",
    "    AL -- last post-activation value\n",
    "    caches -- list of caches containing:\n",
    "                every cache of linear_relu_forward() (there are L-1 of them, indexed from 0 to L-2)\n",
    "                the cache of linear_sigmoid_forward() (there is one, indexed L-1)\n",
    "    \"\"\"\n",
    "\n",
    "    caches = []\n",
    "    A = X\n",
    "    L = len(parameters) // 2                  # number of layers in the neural network\n",
    "    \n",
    "    # Implement [LINEAR -> RELU]*(L-1). Add \"cache\" to the \"caches\" list.\n",
    "    for l in range(1, 4):\n",
    "        A_prev = A \n",
    "        ### START CODE HERE ### (≈ 2 lines of code)\n",
    "        #print(\"l is\", l)\n",
    "        A, cache = linear_activation_forward(A_prev, \n",
    "                                             parameters['W' + str(l)], \n",
    "                                             parameters['b' + str(l)], \n",
    "                                             activation='relu')\n",
    "        caches.append(cache)\n",
    "        \n",
    "        ### END CODE HERE ###\n",
    "    \n",
    "    # Implement LINEAR -> SIGMOID. Add \"cache\" to the \"caches\" list.\n",
    "    ### START CODE HERE ### (≈ 2 lines of code)\n",
    "    L=4\n",
    "    AL, cache = linear_activation_forward(A, \n",
    "                                          parameters['W' + str(L)], \n",
    "                                          parameters['b' + str(L)], \n",
    "                                          activation='sigmoid')\n",
    "    caches.append(cache)\n",
    "    \n",
    "    ### END CODE HERE ###\n",
    "    \n",
    "    #print(AL.shape, (2, X.shape[1]) )\n",
    "    assert(AL.shape == (2, X.shape[1]))\n",
    "            \n",
    "    return AL, caches\n",
    "\n"
   ]
  },
  {
   "cell_type": "code",
   "execution_count": 331,
   "metadata": {},
   "outputs": [
    {
     "name": "stdout",
     "output_type": "stream",
     "text": [
      "AL [[ 0.05033797]\n",
      " [ 0.05053092]] [[ 0.]\n",
      " [ 6.]]\n",
      "cost 17.703407201\n",
      "AL [[ 0.05033797]\n",
      " [ 0.05053092]] [[ 0.]\n",
      " [ 6.]]\n",
      "cost 17.703407201\n",
      "AL [[ 0.05033797]\n",
      " [ 0.05053092]] [[ 0.]\n",
      " [ 6.]]\n",
      "cost 17.703407201\n",
      "AL [[ 0.05033797]\n",
      " [ 0.05053092]] [[ 0.]\n",
      " [ 6.]]\n",
      "cost 17.703407201\n"
     ]
    }
   ],
   "source": [
    "X1 = np.array([[0.,0.,0.]]).T\n",
    "Y1 = np.array([[0.,6.]]).T\n",
    "P=L_layer_model_reversed(X1,Y1,parameters,layers_dims)"
   ]
  },
  {
   "cell_type": "code",
   "execution_count": 312,
   "metadata": {},
   "outputs": [],
   "source": [
    "adj_inputs = P[\"A0\"]"
   ]
  },
  {
   "cell_type": "code",
   "execution_count": 313,
   "metadata": {},
   "outputs": [
    {
     "data": {
      "text/plain": [
       "array([[  8.26553030e-04],\n",
       "       [  4.21928661e-04],\n",
       "       [  1.72517850e-05]])"
      ]
     },
     "execution_count": 313,
     "metadata": {},
     "output_type": "execute_result"
    }
   ],
   "source": [
    "adj_inputs"
   ]
  }
 ],
 "metadata": {
  "kernelspec": {
   "display_name": "Python 3",
   "language": "python",
   "name": "python3"
  },
  "language_info": {
   "codemirror_mode": {
    "name": "ipython",
    "version": 3
   },
   "file_extension": ".py",
   "mimetype": "text/x-python",
   "name": "python",
   "nbconvert_exporter": "python",
   "pygments_lexer": "ipython3",
   "version": "3.6.1"
  }
 },
 "nbformat": 4,
 "nbformat_minor": 2
}
